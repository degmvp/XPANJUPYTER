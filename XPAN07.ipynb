{
 "cells": [
  {
   "cell_type": "code",
   "execution_count": 1,
   "id": "7dd0e9f8",
   "metadata": {},
   "outputs": [],
   "source": [
    "#--------------------------------------\n",
    "# PANDAS - Tutorial X1PAN07 2021/07/097        \n",
    "#---------------------------------------\n",
    "import pandas as pd\n",
    "s = pd.Series([3, -5, 7, 4], index=['a', 'b', 'c', 'd'])"
   ]
  },
  {
   "cell_type": "code",
   "execution_count": 2,
   "id": "2cfc8dfb",
   "metadata": {},
   "outputs": [],
   "source": [
    "data = {'País': ['Bélgica', 'Índia', 'Brasil'],\n",
    "'Capital': ['Bruxelas', 'Nova Delhi', 'Brasília'],\n",
    "'População': [123465, 456789, 987654]}"
   ]
  },
  {
   "cell_type": "code",
   "execution_count": 3,
   "id": "191c8506",
   "metadata": {},
   "outputs": [
    {
     "data": {
      "text/plain": [
       "{'País': ['Bélgica', 'Índia', 'Brasil'],\n",
       " 'Capital': ['Bruxelas', 'Nova Delhi', 'Brasília'],\n",
       " 'População': [123465, 456789, 987654]}"
      ]
     },
     "execution_count": 3,
     "metadata": {},
     "output_type": "execute_result"
    }
   ],
   "source": [
    "data"
   ]
  },
  {
   "cell_type": "code",
   "execution_count": 4,
   "id": "ee88bb4e",
   "metadata": {},
   "outputs": [],
   "source": [
    "df = pd.DataFrame(data, columns=['País','Capital','População'])"
   ]
  },
  {
   "cell_type": "code",
   "execution_count": 5,
   "id": "2a94f1c4",
   "metadata": {},
   "outputs": [
    {
     "data": {
      "text/html": [
       "<div>\n",
       "<style scoped>\n",
       "    .dataframe tbody tr th:only-of-type {\n",
       "        vertical-align: middle;\n",
       "    }\n",
       "\n",
       "    .dataframe tbody tr th {\n",
       "        vertical-align: top;\n",
       "    }\n",
       "\n",
       "    .dataframe thead th {\n",
       "        text-align: right;\n",
       "    }\n",
       "</style>\n",
       "<table border=\"1\" class=\"dataframe\">\n",
       "  <thead>\n",
       "    <tr style=\"text-align: right;\">\n",
       "      <th></th>\n",
       "      <th>País</th>\n",
       "      <th>Capital</th>\n",
       "      <th>População</th>\n",
       "    </tr>\n",
       "  </thead>\n",
       "  <tbody>\n",
       "    <tr>\n",
       "      <th>0</th>\n",
       "      <td>Bélgica</td>\n",
       "      <td>Bruxelas</td>\n",
       "      <td>123465</td>\n",
       "    </tr>\n",
       "    <tr>\n",
       "      <th>1</th>\n",
       "      <td>Índia</td>\n",
       "      <td>Nova Delhi</td>\n",
       "      <td>456789</td>\n",
       "    </tr>\n",
       "    <tr>\n",
       "      <th>2</th>\n",
       "      <td>Brasil</td>\n",
       "      <td>Brasília</td>\n",
       "      <td>987654</td>\n",
       "    </tr>\n",
       "  </tbody>\n",
       "</table>\n",
       "</div>"
      ],
      "text/plain": [
       "      País     Capital  População\n",
       "0  Bélgica    Bruxelas     123465\n",
       "1    Índia  Nova Delhi     456789\n",
       "2   Brasil    Brasília     987654"
      ]
     },
     "execution_count": 5,
     "metadata": {},
     "output_type": "execute_result"
    }
   ],
   "source": [
    "df.head()"
   ]
  },
  {
   "cell_type": "code",
   "execution_count": 6,
   "id": "0fe505b5",
   "metadata": {},
   "outputs": [
    {
     "data": {
      "text/plain": [
       "Index(['a', 'b', 'c', 'd'], dtype='object')"
      ]
     },
     "execution_count": 6,
     "metadata": {},
     "output_type": "execute_result"
    }
   ],
   "source": [
    "s.index"
   ]
  },
  {
   "cell_type": "code",
   "execution_count": 7,
   "id": "7914c91f",
   "metadata": {},
   "outputs": [],
   "source": [
    "df1 = pd.read_csv('chips.txt', encoding='UTF-8', sep=';')"
   ]
  },
  {
   "cell_type": "code",
   "execution_count": 8,
   "id": "ddc9eda9",
   "metadata": {},
   "outputs": [
    {
     "data": {
      "text/html": [
       "<div>\n",
       "<style scoped>\n",
       "    .dataframe tbody tr th:only-of-type {\n",
       "        vertical-align: middle;\n",
       "    }\n",
       "\n",
       "    .dataframe tbody tr th {\n",
       "        vertical-align: top;\n",
       "    }\n",
       "\n",
       "    .dataframe thead th {\n",
       "        text-align: right;\n",
       "    }\n",
       "</style>\n",
       "<table border=\"1\" class=\"dataframe\">\n",
       "  <thead>\n",
       "    <tr style=\"text-align: right;\">\n",
       "      <th></th>\n",
       "      <th>order_id\\tquantity\\titem_name\\tchoice_description\\titem_price</th>\n",
       "    </tr>\n",
       "  </thead>\n",
       "  <tbody>\n",
       "    <tr>\n",
       "      <th>0</th>\n",
       "      <td>1\\t1\\tChips and Fresh Tomato Salsa\\tNULL\\t$2.39</td>\n",
       "    </tr>\n",
       "    <tr>\n",
       "      <th>1</th>\n",
       "      <td>1\\t1\\tIzze\\t[Clementine]\\t$3.39</td>\n",
       "    </tr>\n",
       "  </tbody>\n",
       "</table>\n",
       "</div>"
      ],
      "text/plain": [
       "  order_id\\tquantity\\titem_name\\tchoice_description\\titem_price\n",
       "0   1\\t1\\tChips and Fresh Tomato Salsa\\tNULL\\t$2.39            \n",
       "1                   1\\t1\\tIzze\\t[Clementine]\\t$3.39            "
      ]
     },
     "execution_count": 8,
     "metadata": {},
     "output_type": "execute_result"
    }
   ],
   "source": [
    "df1.head(2)"
   ]
  },
  {
   "cell_type": "code",
   "execution_count": 9,
   "id": "94bc5e6f",
   "metadata": {},
   "outputs": [],
   "source": [
    "#Para gravar arquivos CSV\n",
    "df1.to_csv('gravar.csv')"
   ]
  },
  {
   "cell_type": "code",
   "execution_count": 10,
   "id": "d619050b",
   "metadata": {},
   "outputs": [
    {
     "data": {
      "text/html": [
       "<div>\n",
       "<style scoped>\n",
       "    .dataframe tbody tr th:only-of-type {\n",
       "        vertical-align: middle;\n",
       "    }\n",
       "\n",
       "    .dataframe tbody tr th {\n",
       "        vertical-align: top;\n",
       "    }\n",
       "\n",
       "    .dataframe thead th {\n",
       "        text-align: right;\n",
       "    }\n",
       "</style>\n",
       "<table border=\"1\" class=\"dataframe\">\n",
       "  <thead>\n",
       "    <tr style=\"text-align: right;\">\n",
       "      <th></th>\n",
       "      <th>,order_id\\tquantity\\titem_name\\tchoice_description\\titem_price</th>\n",
       "    </tr>\n",
       "  </thead>\n",
       "  <tbody>\n",
       "    <tr>\n",
       "      <th>0</th>\n",
       "      <td>0,1\\t1\\tChips and Fresh Tomato Salsa\\tNULL\\t$2...</td>\n",
       "    </tr>\n",
       "    <tr>\n",
       "      <th>1</th>\n",
       "      <td>1,1\\t1\\tIzze\\t[Clementine]\\t$3.39</td>\n",
       "    </tr>\n",
       "    <tr>\n",
       "      <th>2</th>\n",
       "      <td>2,1\\t1\\tNantucket Nectar\\t[Apple]\\t$3.39</td>\n",
       "    </tr>\n",
       "    <tr>\n",
       "      <th>3</th>\n",
       "      <td>3,1\\t1\\tChips and Tomatillo-Green Chili Salsa\\...</td>\n",
       "    </tr>\n",
       "    <tr>\n",
       "      <th>4</th>\n",
       "      <td>4,\"2\\t2\\tChicken Bowl\\t[Tomatillo-Red Chili Sa...</td>\n",
       "    </tr>\n",
       "    <tr>\n",
       "      <th>...</th>\n",
       "      <td>...</td>\n",
       "    </tr>\n",
       "    <tr>\n",
       "      <th>4617</th>\n",
       "      <td>4617,\"1833\\t1\\tSteak Burrito\\t[Fresh Tomato Sa...</td>\n",
       "    </tr>\n",
       "    <tr>\n",
       "      <th>4618</th>\n",
       "      <td>4618,\"1833\\t1\\tSteak Burrito\\t[Fresh Tomato Sa...</td>\n",
       "    </tr>\n",
       "    <tr>\n",
       "      <th>4619</th>\n",
       "      <td>4619,\"1834\\t1\\tChicken Salad Bowl\\t[Fresh Toma...</td>\n",
       "    </tr>\n",
       "    <tr>\n",
       "      <th>4620</th>\n",
       "      <td>4620,\"1834\\t1\\tChicken Salad Bowl\\t[Fresh Toma...</td>\n",
       "    </tr>\n",
       "    <tr>\n",
       "      <th>4621</th>\n",
       "      <td>4621,\"1834\\t1\\tChicken Salad Bowl\\t[Fresh Toma...</td>\n",
       "    </tr>\n",
       "  </tbody>\n",
       "</table>\n",
       "<p>4622 rows × 1 columns</p>\n",
       "</div>"
      ],
      "text/plain": [
       "     ,order_id\\tquantity\\titem_name\\tchoice_description\\titem_price\n",
       "0     0,1\\t1\\tChips and Fresh Tomato Salsa\\tNULL\\t$2...            \n",
       "1                    1,1\\t1\\tIzze\\t[Clementine]\\t$3.39             \n",
       "2             2,1\\t1\\tNantucket Nectar\\t[Apple]\\t$3.39             \n",
       "3     3,1\\t1\\tChips and Tomatillo-Green Chili Salsa\\...            \n",
       "4     4,\"2\\t2\\tChicken Bowl\\t[Tomatillo-Red Chili Sa...            \n",
       "...                                                 ...            \n",
       "4617  4617,\"1833\\t1\\tSteak Burrito\\t[Fresh Tomato Sa...            \n",
       "4618  4618,\"1833\\t1\\tSteak Burrito\\t[Fresh Tomato Sa...            \n",
       "4619  4619,\"1834\\t1\\tChicken Salad Bowl\\t[Fresh Toma...            \n",
       "4620  4620,\"1834\\t1\\tChicken Salad Bowl\\t[Fresh Toma...            \n",
       "4621  4621,\"1834\\t1\\tChicken Salad Bowl\\t[Fresh Toma...            \n",
       "\n",
       "[4622 rows x 1 columns]"
      ]
     },
     "execution_count": 10,
     "metadata": {},
     "output_type": "execute_result"
    }
   ],
   "source": [
    "df2 = pd.read_csv('gravar.csv', encoding='UTF-8', sep=';')\n",
    "df2"
   ]
  },
  {
   "cell_type": "code",
   "execution_count": 11,
   "id": "38191c18",
   "metadata": {},
   "outputs": [
    {
     "data": {
      "text/html": [
       "<div>\n",
       "<style scoped>\n",
       "    .dataframe tbody tr th:only-of-type {\n",
       "        vertical-align: middle;\n",
       "    }\n",
       "\n",
       "    .dataframe tbody tr th {\n",
       "        vertical-align: top;\n",
       "    }\n",
       "\n",
       "    .dataframe thead th {\n",
       "        text-align: right;\n",
       "    }\n",
       "</style>\n",
       "<table border=\"1\" class=\"dataframe\">\n",
       "  <thead>\n",
       "    <tr style=\"text-align: right;\">\n",
       "      <th></th>\n",
       "      <th>Capital</th>\n",
       "      <th>População</th>\n",
       "    </tr>\n",
       "  </thead>\n",
       "  <tbody>\n",
       "    <tr>\n",
       "      <th>0</th>\n",
       "      <td>Bruxelas</td>\n",
       "      <td>123465</td>\n",
       "    </tr>\n",
       "    <tr>\n",
       "      <th>1</th>\n",
       "      <td>Nova Delhi</td>\n",
       "      <td>456789</td>\n",
       "    </tr>\n",
       "    <tr>\n",
       "      <th>2</th>\n",
       "      <td>Brasília</td>\n",
       "      <td>987654</td>\n",
       "    </tr>\n",
       "  </tbody>\n",
       "</table>\n",
       "</div>"
      ],
      "text/plain": [
       "      Capital  População\n",
       "0    Bruxelas     123465\n",
       "1  Nova Delhi     456789\n",
       "2    Brasília     987654"
      ]
     },
     "execution_count": 11,
     "metadata": {},
     "output_type": "execute_result"
    }
   ],
   "source": [
    "# Removendo colunas utilizando o argumento axis=1\n",
    "df.drop('País', axis=1)"
   ]
  },
  {
   "cell_type": "code",
   "execution_count": 12,
   "id": "b9763c0f",
   "metadata": {},
   "outputs": [
    {
     "data": {
      "text/plain": [
       "(3, 3)"
      ]
     },
     "execution_count": 12,
     "metadata": {},
     "output_type": "execute_result"
    }
   ],
   "source": [
    "# Quantidade de linhas e colunas do DataFrame\n",
    "df.shape"
   ]
  },
  {
   "cell_type": "code",
   "execution_count": 13,
   "id": "ec58859b",
   "metadata": {},
   "outputs": [
    {
     "data": {
      "text/plain": [
       "RangeIndex(start=0, stop=3, step=1)"
      ]
     },
     "execution_count": 13,
     "metadata": {},
     "output_type": "execute_result"
    }
   ],
   "source": [
    "# Descrição do Index\n",
    "df.index"
   ]
  },
  {
   "cell_type": "code",
   "execution_count": 14,
   "id": "9a6b69a4",
   "metadata": {},
   "outputs": [
    {
     "data": {
      "text/plain": [
       "Index(['País', 'Capital', 'População'], dtype='object')"
      ]
     },
     "execution_count": 14,
     "metadata": {},
     "output_type": "execute_result"
    }
   ],
   "source": [
    "# Colunas presentes no DataFrame\n",
    "df.columns"
   ]
  },
  {
   "cell_type": "code",
   "execution_count": 16,
   "id": "620f1123",
   "metadata": {},
   "outputs": [
    {
     "data": {
      "text/plain": [
       "País         3\n",
       "Capital      3\n",
       "População    3\n",
       "dtype: int64"
      ]
     },
     "execution_count": 16,
     "metadata": {},
     "output_type": "execute_result"
    }
   ],
   "source": [
    "#Contagem de dados não-nulos\n",
    "df.count()"
   ]
  },
  {
   "cell_type": "code",
   "execution_count": 17,
   "id": "3730313a",
   "metadata": {},
   "outputs": [],
   "source": [
    "#Criando uma nova coluna em um DataFrame:\n",
    "df['Nova Coluna'] = 0"
   ]
  },
  {
   "cell_type": "code",
   "execution_count": 18,
   "id": "9bfb7011",
   "metadata": {},
   "outputs": [],
   "source": [
    "#Renomeando colunas de um DataFrame:\n",
    "#Se seu DataFrame possui 3 colunas, passe 3 novos valores em uma lista\n",
    "df.columns = ['Coluna 1', 'Coluna 2', 'Coluna 3','Coluna 4']"
   ]
  },
  {
   "cell_type": "code",
   "execution_count": 19,
   "id": "05995871",
   "metadata": {},
   "outputs": [
    {
     "data": {
      "text/plain": [
       "Index(['Coluna 1', 'Coluna 2', 'Coluna 3', 'Coluna 4'], dtype='object')"
      ]
     },
     "execution_count": 19,
     "metadata": {},
     "output_type": "execute_result"
    }
   ],
   "source": [
    "df.columns"
   ]
  },
  {
   "cell_type": "code",
   "execution_count": 20,
   "id": "b053aad4",
   "metadata": {},
   "outputs": [
    {
     "data": {
      "text/plain": [
       "Coluna 1            BélgicaÍndiaBrasil\n",
       "Coluna 2    BruxelasNova DelhiBrasília\n",
       "Coluna 3                       1567908\n",
       "Coluna 4                             0\n",
       "dtype: object"
      ]
     },
     "execution_count": 20,
     "metadata": {},
     "output_type": "execute_result"
    }
   ],
   "source": [
    "#Resumo dos dados:\n",
    "#Soma dos valores de um DataFrame\n",
    "df.sum()"
   ]
  },
  {
   "cell_type": "code",
   "execution_count": 22,
   "id": "5ba9b56d",
   "metadata": {},
   "outputs": [
    {
     "data": {
      "text/plain": [
       "Coluna 1      Brasil\n",
       "Coluna 2    Brasília\n",
       "Coluna 3      123465\n",
       "Coluna 4           0\n",
       "dtype: object"
      ]
     },
     "execution_count": 22,
     "metadata": {},
     "output_type": "execute_result"
    }
   ],
   "source": [
    "#Menor valor de um DataFrame\n",
    "df.min()"
   ]
  },
  {
   "cell_type": "code",
   "execution_count": 35,
   "id": "e2f69ca0",
   "metadata": {},
   "outputs": [
    {
     "data": {
      "text/plain": [
       "Coluna 1         Índia\n",
       "Coluna 2    Nova Delhi\n",
       "Coluna 3        987654\n",
       "Coluna 4             0\n",
       "dtype: object"
      ]
     },
     "execution_count": 35,
     "metadata": {},
     "output_type": "execute_result"
    }
   ],
   "source": [
    "#Maior valor\n",
    "df.max()"
   ]
  },
  {
   "cell_type": "code",
   "execution_count": null,
   "id": "88313282",
   "metadata": {},
   "outputs": [],
   "source": []
  }
 ],
 "metadata": {
  "kernelspec": {
   "display_name": "Python 3 (ipykernel)",
   "language": "python",
   "name": "python3"
  },
  "language_info": {
   "codemirror_mode": {
    "name": "ipython",
    "version": 3
   },
   "file_extension": ".py",
   "mimetype": "text/x-python",
   "name": "python",
   "nbconvert_exporter": "python",
   "pygments_lexer": "ipython3",
   "version": "3.10.6"
  }
 },
 "nbformat": 4,
 "nbformat_minor": 5
}
