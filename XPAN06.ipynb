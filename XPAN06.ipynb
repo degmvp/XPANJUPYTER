{
 "cells": [
  {
   "cell_type": "code",
   "execution_count": 3,
   "id": "b6fbd8c0",
   "metadata": {},
   "outputs": [],
   "source": [
    "# pd.read_csv to DataFrame - X1PAN06 - 2021/07/09\n",
    "import pandas as pd \n",
    "df = pd.read_csv('bank.txt', encoding='UTF-8', sep=';')"
   ]
  },
  {
   "cell_type": "code",
   "execution_count": 4,
   "id": "ed98a759",
   "metadata": {},
   "outputs": [
    {
     "name": "stdout",
     "output_type": "stream",
     "text": [
      "   age         job  marital  education default  balance housing loan  \\\n",
      "0   30  unemployed  married    primary      no     1787      no   no   \n",
      "1   33    services  married  secondary      no     4789     yes  yes   \n",
      "\n",
      "    contact  day month  duration  campaign  pdays  previous poutcome   y  \n",
      "0  cellular   19   oct        79         1     -1         0  unknown  no  \n",
      "1  cellular   11   may       220         1    339         4  failure  no  \n"
     ]
    }
   ],
   "source": [
    " print(df.head(2))"
   ]
  },
  {
   "cell_type": "code",
   "execution_count": 5,
   "id": "08b9180c",
   "metadata": {},
   "outputs": [
    {
     "name": "stdout",
     "output_type": "stream",
     "text": [
      "Index(['age', 'job', 'marital', 'education', 'default', 'balance', 'housing',\n",
      "       'loan', 'contact', 'day', 'month', 'duration', 'campaign', 'pdays',\n",
      "       'previous', 'poutcome', 'y'],\n",
      "      dtype='object')\n"
     ]
    }
   ],
   "source": [
    "print(df.keys())"
   ]
  },
  {
   "cell_type": "code",
   "execution_count": 6,
   "id": "2366d3dd",
   "metadata": {},
   "outputs": [
    {
     "name": "stdout",
     "output_type": "stream",
     "text": [
      "age                  30\n",
      "job          unemployed\n",
      "marital         married\n",
      "education       primary\n",
      "default              no\n",
      "balance            1787\n",
      "housing              no\n",
      "loan                 no\n",
      "contact        cellular\n",
      "day                  19\n",
      "month               oct\n",
      "duration             79\n",
      "campaign              1\n",
      "pdays                -1\n",
      "previous              0\n",
      "poutcome        unknown\n",
      "y                    no\n",
      "Name: 0, dtype: object\n"
     ]
    }
   ],
   "source": [
    "# DataFrame loc = select * from row, col\n",
    "\n",
    "print(df.loc[0,:])  # print todos os campos da (row)-0"
   ]
  },
  {
   "cell_type": "code",
   "execution_count": 7,
   "id": "c72229ee",
   "metadata": {},
   "outputs": [
    {
     "name": "stdout",
     "output_type": "stream",
     "text": [
      "age                 33\n",
      "job           services\n",
      "marital        married\n",
      "education    secondary\n",
      "default             no\n",
      "balance           4789\n",
      "housing            yes\n",
      "loan               yes\n",
      "contact       cellular\n",
      "day                 11\n",
      "month              may\n",
      "duration           220\n",
      "campaign             1\n",
      "pdays              339\n",
      "previous             4\n",
      "poutcome       failure\n",
      "y                   no\n",
      "Name: 1, dtype: object\n"
     ]
    }
   ],
   "source": [
    " print(df.loc[1,:])                          # print todos os campos da (row)-1"
   ]
  },
  {
   "cell_type": "code",
   "execution_count": 8,
   "id": "95451423",
   "metadata": {},
   "outputs": [
    {
     "name": "stdout",
     "output_type": "stream",
     "text": [
      "   age          job  marital  education default  balance housing loan  \\\n",
      "1   33     services  married  secondary      no     4789     yes  yes   \n",
      "2   35   management   single   tertiary      no     1350     yes   no   \n",
      "4   59  blue-collar  married  secondary      no        0     yes   no   \n",
      "\n",
      "    contact  day month  duration  campaign  pdays  previous poutcome   y  \n",
      "1  cellular   11   may       220         1    339         4  failure  no  \n",
      "2  cellular   16   apr       185         1    330         1  failure  no  \n",
      "4   unknown    5   may       226         1     -1         0  unknown  no  \n",
      "   age            job  marital  education default  balance housing loan  \\\n",
      "0   30     unemployed  married    primary      no     1787      no   no   \n",
      "1   33       services  married  secondary      no     4789     yes  yes   \n",
      "2   35     management   single   tertiary      no     1350     yes   no   \n",
      "3   30     management  married   tertiary      no     1476     yes  yes   \n",
      "4   59    blue-collar  married  secondary      no        0     yes   no   \n",
      "5   35     management   single   tertiary      no      747      no   no   \n",
      "6   36  self-employed  married   tertiary      no      307     yes   no   \n",
      "7   39     technician  married  secondary      no      147     yes   no   \n",
      "\n",
      "    contact  day month  duration  campaign  pdays  previous poutcome   y  \n",
      "0  cellular   19   oct        79         1     -1         0  unknown  no  \n",
      "1  cellular   11   may       220         1    339         4  failure  no  \n",
      "2  cellular   16   apr       185         1    330         1  failure  no  \n",
      "3   unknown    3   jun       199         4     -1         0  unknown  no  \n",
      "4   unknown    5   may       226         1     -1         0  unknown  no  \n",
      "5  cellular   23   feb       141         2    176         3  failure  no  \n",
      "6  cellular   14   may       341         1    330         2    other  no  \n",
      "7  cellular    6   may       151         2     -1         0  unknown  no  \n",
      "0          unemployed\n",
      "1            services\n",
      "2          management\n",
      "3          management\n",
      "4         blue-collar\n",
      "            ...      \n",
      "4516         services\n",
      "4517    self-employed\n",
      "4518       technician\n",
      "4519      blue-collar\n",
      "4520     entrepreneur\n",
      "Name: job, Length: 4521, dtype: object\n",
      "0       30\n",
      "1       33\n",
      "2       35\n",
      "3       30\n",
      "4       59\n",
      "        ..\n",
      "4516    33\n",
      "4517    57\n",
      "4518    57\n",
      "4519    28\n",
      "4520    44\n",
      "Name: age, Length: 4521, dtype: int64\n",
      "      age            job\n",
      "0      30     unemployed\n",
      "1      33       services\n",
      "2      35     management\n",
      "3      30     management\n",
      "4      59    blue-collar\n",
      "...   ...            ...\n",
      "4516   33       services\n",
      "4517   57  self-employed\n",
      "4518   57     technician\n",
      "4519   28    blue-collar\n",
      "4520   44   entrepreneur\n",
      "\n",
      "[4521 rows x 2 columns]\n",
      "      age            job  marital  education default\n",
      "0      30     unemployed  married    primary      no\n",
      "1      33       services  married  secondary      no\n",
      "2      35     management   single   tertiary      no\n",
      "3      30     management  married   tertiary      no\n",
      "4      59    blue-collar  married  secondary      no\n",
      "...   ...            ...      ...        ...     ...\n",
      "4516   33       services  married  secondary      no\n",
      "4517   57  self-employed  married   tertiary     yes\n",
      "4518   57     technician  married  secondary      no\n",
      "4519   28    blue-collar  married  secondary      no\n",
      "4520   44   entrepreneur   single   tertiary      no\n",
      "\n",
      "[4521 rows x 5 columns]\n",
      "      age         job   marital  education default  balance housing loan  \\\n",
      "7      39  technician   married  secondary      no      147     yes   no   \n",
      "12     36  technician   married   tertiary      no     1109      no   no   \n",
      "16     56  technician   married  secondary      no     4073      no   no   \n",
      "31     31  technician   married  secondary      no      171      no   no   \n",
      "34     49  technician   married   tertiary      no     1235      no   no   \n",
      "...   ...         ...       ...        ...     ...      ...     ...  ...   \n",
      "4493   28  technician    single   tertiary      no        0     yes   no   \n",
      "4494   26  technician    single  secondary      no      668     yes   no   \n",
      "4509   51  technician   married   tertiary      no     2506      no   no   \n",
      "4510   36  technician  divorced  secondary      no      566     yes   no   \n",
      "4518   57  technician   married  secondary      no      295      no   no   \n",
      "\n",
      "       contact  day month  duration  campaign  pdays  previous poutcome    y  \n",
      "7     cellular    6   may       151         2     -1         0  unknown   no  \n",
      "12    cellular   13   aug       328         2     -1         0  unknown   no  \n",
      "16    cellular   27   aug       239         5     -1         0  unknown   no  \n",
      "31    cellular   27   aug        81         3     -1         0  unknown   no  \n",
      "34    cellular   13   aug       354         3     -1         0  unknown  yes  \n",
      "...        ...  ...   ...       ...       ...    ...       ...      ...  ...  \n",
      "4493   unknown    4   jun       205         6     -1         0  unknown   no  \n",
      "4494   unknown   28   may       576         3     -1         0  unknown  yes  \n",
      "4509  cellular   30   nov       210         3     -1         0  unknown   no  \n",
      "4510   unknown   20   may       129         2     -1         0  unknown   no  \n",
      "4518  cellular   19   aug       151        11     -1         0  unknown   no  \n",
      "\n",
      "[768 rows x 17 columns]\n",
      "7       39\n",
      "12      36\n",
      "16      56\n",
      "31      31\n",
      "34      49\n",
      "        ..\n",
      "4493    28\n",
      "4494    26\n",
      "4509    51\n",
      "4510    36\n",
      "4518    57\n",
      "Name: age, Length: 768, dtype: int64\n",
      "      age default\n",
      "0      30      no\n",
      "1      33      no\n",
      "2      35      no\n",
      "3      30      no\n",
      "4      59      no\n",
      "...   ...     ...\n",
      "4516   33      no\n",
      "4517   57     yes\n",
      "4518   57      no\n",
      "4519   28      no\n",
      "4520   44      no\n",
      "\n",
      "[4521 rows x 2 columns]\n",
      "      age            job  marital  education\n",
      "0      30     unemployed  married    primary\n",
      "1      33       services  married  secondary\n",
      "2      35     management   single   tertiary\n",
      "3      30     management  married   tertiary\n",
      "4      59    blue-collar  married  secondary\n",
      "...   ...            ...      ...        ...\n",
      "4516   33       services  married  secondary\n",
      "4517   57  self-employed  married   tertiary\n",
      "4518   57     technician  married  secondary\n",
      "4519   28    blue-collar  married  secondary\n",
      "4520   44   entrepreneur   single   tertiary\n",
      "\n",
      "[4521 rows x 4 columns]\n"
     ]
    }
   ],
   "source": [
    " print(df.loc[[1,2,4],:])                    # print todos os campos da (row)-1,2,4   \n",
    " print(df.loc[0:7,:])                        # print todos os campos da (row)0..a.7\n",
    " print(df.loc[:, 'job'])                     # print todas as (rows) da column\n",
    " print(df.loc[:, 'age'])                     # print todas as (rows) da column age\n",
    " print(df.loc[:, ['age', 'job']])            # print todas as (rows) das columns\n",
    " print(df.loc[:, 'age':'default'])           #- print todas as (rows) no range das columns\n",
    " print(df.loc[df.job=='technician', :])      # print todas as (rows) where job=='technician'\n",
    " print(df.loc[df.job=='technician','age'])   # print todas as (rows) da column \"age\" job tech\n",
    " print(df.iloc[:, [0, 4]])                   # print todas as (rows) da column 0,4\n",
    " print(df.iloc[:,  0: 4])                    # print todas as (rows) da column 0..a..4"
   ]
  },
  {
   "cell_type": "code",
   "execution_count": 9,
   "id": "1c3c9a9d",
   "metadata": {},
   "outputs": [
    {
     "name": "stdout",
     "output_type": "stream",
     "text": [
      "0      False\n",
      "1      False\n",
      "2      False\n",
      "3      False\n",
      "4      False\n",
      "       ...  \n",
      "995    False\n",
      "996    False\n",
      "997    False\n",
      "998    False\n",
      "999    False\n",
      "Name: age, Length: 1000, dtype: bool\n",
      "0      True\n",
      "1      True\n",
      "2      True\n",
      "3      True\n",
      "4      True\n",
      "       ... \n",
      "995    True\n",
      "996    True\n",
      "997    True\n",
      "998    True\n",
      "999    True\n",
      "Name: age, Length: 1000, dtype: bool\n",
      "     age    job  marital  education  default  balance  housing   loan  \\\n",
      "0  False  False    False      False    False    False    False  False   \n",
      "1  False  False    False      False    False    False    False  False   \n",
      "2  False  False    False      False    False    False    False  False   \n",
      "3  False  False    False      False    False    False    False  False   \n",
      "4  False  False    False      False    False    False    False  False   \n",
      "\n",
      "   contact    day  month  duration  campaign  pdays  previous  poutcome      y  \n",
      "0    False  False  False     False     False  False     False     False  False  \n",
      "1    False  False  False     False     False  False     False     False  False  \n",
      "2    False  False  False     False     False  False     False     False  False  \n",
      "3    False  False  False     False     False  False     False     False  False  \n",
      "4    False  False  False     False     False  False     False     False  False  \n",
      "    age   job  marital  education  default  balance  housing  loan  contact  \\\n",
      "0  True  True     True       True     True     True     True  True     True   \n",
      "1  True  True     True       True     True     True     True  True     True   \n",
      "2  True  True     True       True     True     True     True  True     True   \n",
      "3  True  True     True       True     True     True     True  True     True   \n",
      "4  True  True     True       True     True     True     True  True     True   \n",
      "\n",
      "    day  month  duration  campaign  pdays  previous  poutcome     y  \n",
      "0  True   True      True      True   True      True      True  True  \n",
      "1  True   True      True      True   True      True      True  True  \n",
      "2  True   True      True      True   True      True      True  True  \n",
      "3  True   True      True      True   True      True      True  True  \n",
      "4  True   True      True      True   True      True      True  True  \n"
     ]
    },
    {
     "data": {
      "text/plain": [
       "age                19\n",
       "job            admin.\n",
       "marital      divorced\n",
       "education     primary\n",
       "default            no\n",
       "balance         -3313\n",
       "housing            no\n",
       "loan               no\n",
       "contact      cellular\n",
       "day                 1\n",
       "month             apr\n",
       "duration            4\n",
       "campaign            1\n",
       "pdays              -1\n",
       "previous            0\n",
       "poutcome      failure\n",
       "y                  no\n",
       "dtype: object"
      ]
     },
     "execution_count": 9,
     "metadata": {},
     "output_type": "execute_result"
    }
   ],
   "source": [
    "df.isna().head()\n",
    "df.notna().head()\n",
    "print(df.isna().age.head(1000))\n",
    "print(df.notna().age.head(1000))\n",
    "print(df.isna().head())\n",
    "print(df.notna().head())\n",
    "df.isnull().sum()\n",
    "df.max()\n",
    "df.min()"
   ]
  },
  {
   "cell_type": "code",
   "execution_count": 11,
   "id": "64c8de83",
   "metadata": {},
   "outputs": [
    {
     "data": {
      "text/plain": [
       "0    4216\n",
       "1    3867\n",
       "2    7934\n",
       "3    4180\n",
       "4    5144\n",
       "dtype: int64"
      ]
     },
     "execution_count": 11,
     "metadata": {},
     "output_type": "execute_result"
    }
   ],
   "source": [
    "df.groupby(\"age\")[\"balance\"].sum()            # groupby - sum() \n",
    "df.sort_values(by = \"balance\").head(10)       # sort_values\n",
    "steps = pd.Series([4216,3867,7934,4180,5144]) # Series\n",
    "steps"
   ]
  },
  {
   "cell_type": "code",
   "execution_count": 14,
   "id": "e42a4d42",
   "metadata": {},
   "outputs": [
    {
     "data": {
      "text/plain": [
       "pandas.core.series.Series"
      ]
     },
     "execution_count": 14,
     "metadata": {},
     "output_type": "execute_result"
    }
   ],
   "source": [
    "type(steps)"
   ]
  },
  {
   "cell_type": "code",
   "execution_count": 15,
   "id": "1f640971",
   "metadata": {},
   "outputs": [
    {
     "data": {
      "text/plain": [
       "array([4216, 3867, 7934, 4180, 5144], dtype=int64)"
      ]
     },
     "execution_count": 15,
     "metadata": {},
     "output_type": "execute_result"
    }
   ],
   "source": [
    "steps.values    # step.values"
   ]
  },
  {
   "cell_type": "code",
   "execution_count": 16,
   "id": "d7dcd3e8",
   "metadata": {},
   "outputs": [
    {
     "data": {
      "text/plain": [
       "RangeIndex(start=0, stop=5, step=1)"
      ]
     },
     "execution_count": 16,
     "metadata": {},
     "output_type": "execute_result"
    }
   ],
   "source": [
    "steps.index     # step.index"
   ]
  },
  {
   "cell_type": "code",
   "execution_count": 17,
   "id": "6c54c161",
   "metadata": {},
   "outputs": [
    {
     "data": {
      "text/plain": [
       "seg    4216\n",
       "ter    3867\n",
       "qua    7934\n",
       "qui    4180\n",
       "sex    5144\n",
       "dtype: int64"
      ]
     },
     "execution_count": 17,
     "metadata": {},
     "output_type": "execute_result"
    }
   ],
   "source": [
    "steps = pd.Series(data=[4216,3867,7934,4180,5144], index=['seg','ter','qua','qui','sex'])\n",
    "steps"
   ]
  },
  {
   "cell_type": "code",
   "execution_count": 18,
   "id": "30bc6d73",
   "metadata": {},
   "outputs": [
    {
     "data": {
      "text/plain": [
       "3867"
      ]
     },
     "execution_count": 18,
     "metadata": {},
     "output_type": "execute_result"
    }
   ],
   "source": [
    "steps.max()\n",
    "steps.min()"
   ]
  },
  {
   "cell_type": "code",
   "execution_count": 21,
   "id": "f3be29f8",
   "metadata": {},
   "outputs": [
    {
     "data": {
      "text/plain": [
       "5068.2"
      ]
     },
     "execution_count": 21,
     "metadata": {},
     "output_type": "execute_result"
    }
   ],
   "source": [
    "steps.mean()"
   ]
  },
  {
   "cell_type": "code",
   "execution_count": 22,
   "id": "e8a5ff5a",
   "metadata": {},
   "outputs": [
    {
     "data": {
      "text/plain": [
       "25341"
      ]
     },
     "execution_count": 22,
     "metadata": {},
     "output_type": "execute_result"
    }
   ],
   "source": [
    "steps.sum()"
   ]
  },
  {
   "cell_type": "code",
   "execution_count": 23,
   "id": "90820b9c",
   "metadata": {},
   "outputs": [
    {
     "data": {
      "text/plain": [
       "count       5.000000\n",
       "mean     5068.200000\n",
       "std      1671.569681\n",
       "min      3867.000000\n",
       "25%      4180.000000\n",
       "50%      4216.000000\n",
       "75%      5144.000000\n",
       "max      7934.000000\n",
       "dtype: float64"
      ]
     },
     "execution_count": 23,
     "metadata": {},
     "output_type": "execute_result"
    }
   ],
   "source": [
    "steps.describe()"
   ]
  },
  {
   "cell_type": "code",
   "execution_count": 24,
   "id": "6f15a646",
   "metadata": {},
   "outputs": [
    {
     "data": {
      "text/plain": [
       "(5,)"
      ]
     },
     "execution_count": 24,
     "metadata": {},
     "output_type": "execute_result"
    }
   ],
   "source": [
    "steps.shape"
   ]
  },
  {
   "cell_type": "code",
   "execution_count": 25,
   "id": "64d489e9",
   "metadata": {},
   "outputs": [
    {
     "name": "stdout",
     "output_type": "stream",
     "text": [
      "<class 'pandas.core.frame.DataFrame'>\n",
      "RangeIndex: 4521 entries, 0 to 4520\n",
      "Data columns (total 17 columns):\n",
      " #   Column     Non-Null Count  Dtype \n",
      "---  ------     --------------  ----- \n",
      " 0   age        4521 non-null   int64 \n",
      " 1   job        4521 non-null   object\n",
      " 2   marital    4521 non-null   object\n",
      " 3   education  4521 non-null   object\n",
      " 4   default    4521 non-null   object\n",
      " 5   balance    4521 non-null   int64 \n",
      " 6   housing    4521 non-null   object\n",
      " 7   loan       4521 non-null   object\n",
      " 8   contact    4521 non-null   object\n",
      " 9   day        4521 non-null   int64 \n",
      " 10  month      4521 non-null   object\n",
      " 11  duration   4521 non-null   int64 \n",
      " 12  campaign   4521 non-null   int64 \n",
      " 13  pdays      4521 non-null   int64 \n",
      " 14  previous   4521 non-null   int64 \n",
      " 15  poutcome   4521 non-null   object\n",
      " 16  y          4521 non-null   object\n",
      "dtypes: int64(7), object(10)\n",
      "memory usage: 600.6+ KB\n"
     ]
    }
   ],
   "source": [
    "df.info()"
   ]
  },
  {
   "cell_type": "code",
   "execution_count": null,
   "id": "bf8de1bf",
   "metadata": {},
   "outputs": [],
   "source": []
  }
 ],
 "metadata": {
  "kernelspec": {
   "display_name": "Python 3 (ipykernel)",
   "language": "python",
   "name": "python3"
  },
  "language_info": {
   "codemirror_mode": {
    "name": "ipython",
    "version": 3
   },
   "file_extension": ".py",
   "mimetype": "text/x-python",
   "name": "python",
   "nbconvert_exporter": "python",
   "pygments_lexer": "ipython3",
   "version": "3.10.6"
  }
 },
 "nbformat": 4,
 "nbformat_minor": 5
}
