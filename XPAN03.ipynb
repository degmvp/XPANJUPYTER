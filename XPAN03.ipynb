{
 "cells": [
  {
   "cell_type": "code",
   "execution_count": null,
   "id": "9101a20d",
   "metadata": {},
   "outputs": [],
   "source": [
    "        #---------------------------------------------------#\n",
    "        #  Objetivo:Pandas head(),DataFrame(),Series()      #\n",
    "        #           read_excel(),read_csv(),loc             #\n",
    "        #---------------------------------------------------#"
   ]
  },
  {
   "cell_type": "code",
   "execution_count": 2,
   "id": "b4bf2f00",
   "metadata": {},
   "outputs": [],
   "source": [
    "import pandas as pd\n",
    "import numpy as np"
   ]
  },
  {
   "cell_type": "code",
   "execution_count": 3,
   "id": "48edec2b",
   "metadata": {},
   "outputs": [
    {
     "name": "stdout",
     "output_type": "stream",
     "text": [
      "          W         X         Y         Z\n",
      "A  0.947695  0.386477 -1.417757  0.557214\n",
      "B -0.326329 -1.180327 -0.881632 -0.593694\n",
      "C -0.335670 -1.536871 -0.831724 -0.654762\n",
      "D -0.205861  0.164595 -2.856735  0.453552\n",
      "E -1.153282  0.053606 -1.953767 -0.781879\n"
     ]
    }
   ],
   "source": [
    "        df = pd.DataFrame(np.random.randn(5, 4),\n",
    "                          index='A B C D E'.split(),\n",
    "                          columns='W X Y Z'.split())\n",
    "        print(df)"
   ]
  },
  {
   "cell_type": "code",
   "execution_count": 4,
   "id": "1a528d14",
   "metadata": {},
   "outputs": [
    {
     "name": "stdout",
     "output_type": "stream",
     "text": [
      "Index(['W', 'X', 'Y', 'Z'], dtype='object')\n"
     ]
    }
   ],
   "source": [
    "      print(df.keys())"
   ]
  },
  {
   "cell_type": "code",
   "execution_count": 5,
   "id": "62ea477a",
   "metadata": {},
   "outputs": [
    {
     "name": "stdout",
     "output_type": "stream",
     "text": [
      "          W         Z\n",
      "A  0.947695  0.557214\n",
      "B -0.326329 -0.593694\n",
      "C -0.335670 -0.654762\n",
      "D -0.205861  0.453552\n",
      "E -1.153282 -0.781879\n"
     ]
    }
   ],
   "source": [
    "      print(df[['W', 'Z']])"
   ]
  },
  {
   "cell_type": "code",
   "execution_count": 6,
   "id": "38869707",
   "metadata": {},
   "outputs": [],
   "source": [
    "#DataFrame Create Column\n",
    "df['novaCol'] = df['W'] +  0    "
   ]
  },
  {
   "cell_type": "code",
   "execution_count": 7,
   "id": "7903fec0",
   "metadata": {},
   "outputs": [
    {
     "name": "stdout",
     "output_type": "stream",
     "text": [
      "          W         X         Y         Z   novaCol\n",
      "A  0.947695  0.386477 -1.417757  0.557214  0.947695\n",
      "B -0.326329 -1.180327 -0.881632 -0.593694 -0.326329\n",
      "C -0.335670 -1.536871 -0.831724 -0.654762 -0.335670\n",
      "D -0.205861  0.164595 -2.856735  0.453552 -0.205861\n",
      "E -1.153282  0.053606 -1.953767 -0.781879 -1.153282\n"
     ]
    }
   ],
   "source": [
    "    print(df)"
   ]
  },
  {
   "cell_type": "code",
   "execution_count": 8,
   "id": "1c7ecfb9",
   "metadata": {},
   "outputs": [],
   "source": [
    "#Dataframe drop Column\n",
    "df.drop('novaCol', axis=1, inplace=True)"
   ]
  },
  {
   "cell_type": "code",
   "execution_count": 9,
   "id": "9e8838cb",
   "metadata": {},
   "outputs": [
    {
     "data": {
      "text/html": [
       "<div>\n",
       "<style scoped>\n",
       "    .dataframe tbody tr th:only-of-type {\n",
       "        vertical-align: middle;\n",
       "    }\n",
       "\n",
       "    .dataframe tbody tr th {\n",
       "        vertical-align: top;\n",
       "    }\n",
       "\n",
       "    .dataframe thead th {\n",
       "        text-align: right;\n",
       "    }\n",
       "</style>\n",
       "<table border=\"1\" class=\"dataframe\">\n",
       "  <thead>\n",
       "    <tr style=\"text-align: right;\">\n",
       "      <th></th>\n",
       "      <th>W</th>\n",
       "      <th>X</th>\n",
       "      <th>Y</th>\n",
       "      <th>Z</th>\n",
       "    </tr>\n",
       "  </thead>\n",
       "  <tbody>\n",
       "    <tr>\n",
       "      <th>A</th>\n",
       "      <td>0.947695</td>\n",
       "      <td>0.386477</td>\n",
       "      <td>-1.417757</td>\n",
       "      <td>0.557214</td>\n",
       "    </tr>\n",
       "    <tr>\n",
       "      <th>B</th>\n",
       "      <td>-0.326329</td>\n",
       "      <td>-1.180327</td>\n",
       "      <td>-0.881632</td>\n",
       "      <td>-0.593694</td>\n",
       "    </tr>\n",
       "    <tr>\n",
       "      <th>C</th>\n",
       "      <td>-0.335670</td>\n",
       "      <td>-1.536871</td>\n",
       "      <td>-0.831724</td>\n",
       "      <td>-0.654762</td>\n",
       "    </tr>\n",
       "    <tr>\n",
       "      <th>D</th>\n",
       "      <td>-0.205861</td>\n",
       "      <td>0.164595</td>\n",
       "      <td>-2.856735</td>\n",
       "      <td>0.453552</td>\n",
       "    </tr>\n",
       "    <tr>\n",
       "      <th>E</th>\n",
       "      <td>-1.153282</td>\n",
       "      <td>0.053606</td>\n",
       "      <td>-1.953767</td>\n",
       "      <td>-0.781879</td>\n",
       "    </tr>\n",
       "  </tbody>\n",
       "</table>\n",
       "</div>"
      ],
      "text/plain": [
       "          W         X         Y         Z\n",
       "A  0.947695  0.386477 -1.417757  0.557214\n",
       "B -0.326329 -1.180327 -0.881632 -0.593694\n",
       "C -0.335670 -1.536871 -0.831724 -0.654762\n",
       "D -0.205861  0.164595 -2.856735  0.453552\n",
       "E -1.153282  0.053606 -1.953767 -0.781879"
      ]
     },
     "execution_count": 9,
     "metadata": {},
     "output_type": "execute_result"
    }
   ],
   "source": [
    "df"
   ]
  },
  {
   "cell_type": "code",
   "execution_count": 10,
   "id": "c98d6dd0",
   "metadata": {},
   "outputs": [],
   "source": [
    "df = pd.read_csv('bandas.txt', delimiter='\\t', header=0)"
   ]
  },
  {
   "cell_type": "code",
   "execution_count": 11,
   "id": "48ddc858",
   "metadata": {},
   "outputs": [
    {
     "name": "stdout",
     "output_type": "stream",
     "text": [
      "      musica,artista,ano de lancamento,nome completo\n",
      "0  Radioactive,Imagine Dragons,2012,Radioactive b...\n",
      "1  Good Vibrations,The Beach Boys,1966,Good Vibra...\n",
      "2  A Day In The Life,The Beatles,1967,A Day In Th...\n",
      "3  Message In A Bottle,The Police,1979,Message In...\n",
      "4  Seven Nation Army,The White Stripes,2003,Seven...\n",
      "5  I Wanna Be Sedated,The Ramones,1978,I Wanna Be...\n",
      "6  Lonely Boy,The Black Keys,2011,Lonely Boy by T...\n",
      "7  Enter Sandman,Metallica,1991,Enter Sandman by ...\n",
      "8  Boulevard Of Broken Dreams,Green Day,2004,Boul...\n"
     ]
    }
   ],
   "source": [
    "    print(df)"
   ]
  },
  {
   "cell_type": "code",
   "execution_count": 12,
   "id": "f8b78e68",
   "metadata": {},
   "outputs": [],
   "source": [
    "\n",
    "sms = pd.read_csv('bank.txt', encoding='UTF-8', sep=';',usecols = ['age', 'job'])"
   ]
  },
  {
   "cell_type": "code",
   "execution_count": 13,
   "id": "91395556",
   "metadata": {},
   "outputs": [
    {
     "name": "stdout",
     "output_type": "stream",
     "text": [
      "      age            job\n",
      "0      30     unemployed\n",
      "1      33       services\n",
      "2      35     management\n",
      "3      30     management\n",
      "4      59    blue-collar\n",
      "...   ...            ...\n",
      "4516   33       services\n",
      "4517   57  self-employed\n",
      "4518   57     technician\n",
      "4519   28    blue-collar\n",
      "4520   44   entrepreneur\n",
      "\n",
      "[4521 rows x 2 columns]\n"
     ]
    }
   ],
   "source": [
    "print(sms)"
   ]
  },
  {
   "cell_type": "code",
   "execution_count": 14,
   "id": "1a2c031b",
   "metadata": {},
   "outputs": [
    {
     "name": "stdout",
     "output_type": "stream",
     "text": [
      "Index(['age', 'job'], dtype='object')\n"
     ]
    }
   ],
   "source": [
    "print(sms.keys()) "
   ]
  },
  {
   "cell_type": "code",
   "execution_count": 15,
   "id": "3d2cc44f",
   "metadata": {},
   "outputs": [
    {
     "name": "stdout",
     "output_type": "stream",
     "text": [
      "<bound method NDFrame._add_numeric_operations.<locals>.all of       age            job\n",
      "0      30     unemployed\n",
      "1      33       services\n",
      "2      35     management\n",
      "3      30     management\n",
      "4      59    blue-collar\n",
      "...   ...            ...\n",
      "4516   33       services\n",
      "4517   57  self-employed\n",
      "4518   57     technician\n",
      "4519   28    blue-collar\n",
      "4520   44   entrepreneur\n",
      "\n",
      "[4521 rows x 2 columns]>\n"
     ]
    }
   ],
   "source": [
    " print(sms.all) "
   ]
  },
  {
   "cell_type": "code",
   "execution_count": 16,
   "id": "0fde4f70",
   "metadata": {},
   "outputs": [
    {
     "name": "stdout",
     "output_type": "stream",
     "text": [
      "age     int64\n",
      "job    object\n",
      "dtype: object\n"
     ]
    }
   ],
   "source": [
    " print(sms.dtypes) "
   ]
  },
  {
   "cell_type": "code",
   "execution_count": 17,
   "id": "c2f655bd",
   "metadata": {},
   "outputs": [
    {
     "data": {
      "text/plain": [
       "<bound method NDFrame.describe of       age            job\n",
       "0      30     unemployed\n",
       "1      33       services\n",
       "2      35     management\n",
       "3      30     management\n",
       "4      59    blue-collar\n",
       "...   ...            ...\n",
       "4516   33       services\n",
       "4517   57  self-employed\n",
       "4518   57     technician\n",
       "4519   28    blue-collar\n",
       "4520   44   entrepreneur\n",
       "\n",
       "[4521 rows x 2 columns]>"
      ]
     },
     "execution_count": 17,
     "metadata": {},
     "output_type": "execute_result"
    }
   ],
   "source": [
    "sms.describe"
   ]
  },
  {
   "cell_type": "code",
   "execution_count": 18,
   "id": "4e96902f",
   "metadata": {},
   "outputs": [
    {
     "data": {
      "text/plain": [
       "Index(['age', 'job'], dtype='object')"
      ]
     },
     "execution_count": 18,
     "metadata": {},
     "output_type": "execute_result"
    }
   ],
   "source": [
    "sms.columns"
   ]
  },
  {
   "cell_type": "code",
   "execution_count": 19,
   "id": "ecafddd2",
   "metadata": {},
   "outputs": [
    {
     "data": {
      "text/html": [
       "<div>\n",
       "<style scoped>\n",
       "    .dataframe tbody tr th:only-of-type {\n",
       "        vertical-align: middle;\n",
       "    }\n",
       "\n",
       "    .dataframe tbody tr th {\n",
       "        vertical-align: top;\n",
       "    }\n",
       "\n",
       "    .dataframe thead th {\n",
       "        text-align: right;\n",
       "    }\n",
       "</style>\n",
       "<table border=\"1\" class=\"dataframe\">\n",
       "  <thead>\n",
       "    <tr style=\"text-align: right;\">\n",
       "      <th></th>\n",
       "      <th>age</th>\n",
       "      <th>job</th>\n",
       "    </tr>\n",
       "  </thead>\n",
       "  <tbody>\n",
       "    <tr>\n",
       "      <th>4516</th>\n",
       "      <td>33</td>\n",
       "      <td>services</td>\n",
       "    </tr>\n",
       "    <tr>\n",
       "      <th>4517</th>\n",
       "      <td>57</td>\n",
       "      <td>self-employed</td>\n",
       "    </tr>\n",
       "    <tr>\n",
       "      <th>4518</th>\n",
       "      <td>57</td>\n",
       "      <td>technician</td>\n",
       "    </tr>\n",
       "    <tr>\n",
       "      <th>4519</th>\n",
       "      <td>28</td>\n",
       "      <td>blue-collar</td>\n",
       "    </tr>\n",
       "    <tr>\n",
       "      <th>4520</th>\n",
       "      <td>44</td>\n",
       "      <td>entrepreneur</td>\n",
       "    </tr>\n",
       "  </tbody>\n",
       "</table>\n",
       "</div>"
      ],
      "text/plain": [
       "      age            job\n",
       "4516   33       services\n",
       "4517   57  self-employed\n",
       "4518   57     technician\n",
       "4519   28    blue-collar\n",
       "4520   44   entrepreneur"
      ]
     },
     "execution_count": 19,
     "metadata": {},
     "output_type": "execute_result"
    }
   ],
   "source": [
    "sms.tail()"
   ]
  },
  {
   "cell_type": "code",
   "execution_count": null,
   "id": "c532ec25",
   "metadata": {},
   "outputs": [],
   "source": []
  }
 ],
 "metadata": {
  "kernelspec": {
   "display_name": "Python 3 (ipykernel)",
   "language": "python",
   "name": "python3"
  },
  "language_info": {
   "codemirror_mode": {
    "name": "ipython",
    "version": 3
   },
   "file_extension": ".py",
   "mimetype": "text/x-python",
   "name": "python",
   "nbconvert_exporter": "python",
   "pygments_lexer": "ipython3",
   "version": "3.10.6"
  }
 },
 "nbformat": 4,
 "nbformat_minor": 5
}
