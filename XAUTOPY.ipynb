{
 "cells": [
  {
   "cell_type": "code",
   "execution_count": 2,
   "id": "7ae79e98",
   "metadata": {},
   "outputs": [],
   "source": [
    "import pyautogui\n",
    "import time"
   ]
  },
  {
   "cell_type": "code",
   "execution_count": 3,
   "id": "5311c74e",
   "metadata": {},
   "outputs": [],
   "source": [
    "pyautogui.hotkey('ctrl', 't') #entrar no sistema (link)\n",
    "#pyautogui.write('https://pages.hashtagtreinamentos.com/aula1-intensivao-sistema')\n",
    "pyautogui.write('https://chat.openai.com/chat')\n",
    "pyautogui.press('enter')\n",
    "\n",
    "time.sleep(5)"
   ]
  },
  {
   "cell_type": "code",
   "execution_count": 4,
   "id": "be04a1cf",
   "metadata": {},
   "outputs": [],
   "source": [
    "pyautogui.click()"
   ]
  }
 ],
 "metadata": {
  "kernelspec": {
   "display_name": "Python 3 (ipykernel)",
   "language": "python",
   "name": "python3"
  },
  "language_info": {
   "codemirror_mode": {
    "name": "ipython",
    "version": 3
   },
   "file_extension": ".py",
   "mimetype": "text/x-python",
   "name": "python",
   "nbconvert_exporter": "python",
   "pygments_lexer": "ipython3",
   "version": "3.10.6"
  }
 },
 "nbformat": 4,
 "nbformat_minor": 5
}
