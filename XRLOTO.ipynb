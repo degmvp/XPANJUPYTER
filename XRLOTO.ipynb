{
 "cells": [
  {
   "cell_type": "code",
   "execution_count": 5,
   "id": "15603939",
   "metadata": {},
   "outputs": [
    {
     "data": {
      "text/html": [
       "<div>\n",
       "<style scoped>\n",
       "    .dataframe tbody tr th:only-of-type {\n",
       "        vertical-align: middle;\n",
       "    }\n",
       "\n",
       "    .dataframe tbody tr th {\n",
       "        vertical-align: top;\n",
       "    }\n",
       "\n",
       "    .dataframe thead th {\n",
       "        text-align: right;\n",
       "    }\n",
       "</style>\n",
       "<table border=\"1\" class=\"dataframe\">\n",
       "  <thead>\n",
       "    <tr style=\"text-align: right;\">\n",
       "      <th></th>\n",
       "      <th>Unnamed: 0</th>\n",
       "      <th>Concurso</th>\n",
       "      <th>Data</th>\n",
       "      <th>Bola1</th>\n",
       "      <th>Bola2</th>\n",
       "      <th>Bola3</th>\n",
       "      <th>Bola4</th>\n",
       "      <th>Bola5</th>\n",
       "      <th>Bola6</th>\n",
       "      <th>Bola7</th>\n",
       "      <th>...</th>\n",
       "      <th>Bola10</th>\n",
       "      <th>Bola11</th>\n",
       "      <th>Bola12</th>\n",
       "      <th>Bola13</th>\n",
       "      <th>Bola14</th>\n",
       "      <th>Bola15</th>\n",
       "      <th>G15_Num</th>\n",
       "      <th>G14_num</th>\n",
       "      <th>Val15</th>\n",
       "      <th>Val14</th>\n",
       "    </tr>\n",
       "  </thead>\n",
       "  <tbody>\n",
       "    <tr>\n",
       "      <th>0</th>\n",
       "      <td>0</td>\n",
       "      <td>1.0</td>\n",
       "      <td>29/09/2003</td>\n",
       "      <td>18.0</td>\n",
       "      <td>20.0</td>\n",
       "      <td>25.0</td>\n",
       "      <td>23.0</td>\n",
       "      <td>10.0</td>\n",
       "      <td>11.0</td>\n",
       "      <td>24.0</td>\n",
       "      <td>...</td>\n",
       "      <td>2.0</td>\n",
       "      <td>13.0</td>\n",
       "      <td>9.0</td>\n",
       "      <td>5.0</td>\n",
       "      <td>16.0</td>\n",
       "      <td>3.0</td>\n",
       "      <td>5.0</td>\n",
       "      <td>154.0</td>\n",
       "      <td>49.765,82</td>\n",
       "      <td>689</td>\n",
       "    </tr>\n",
       "    <tr>\n",
       "      <th>1</th>\n",
       "      <td>1</td>\n",
       "      <td>2.0</td>\n",
       "      <td>06/10/2003</td>\n",
       "      <td>23.0</td>\n",
       "      <td>15.0</td>\n",
       "      <td>5.0</td>\n",
       "      <td>4.0</td>\n",
       "      <td>12.0</td>\n",
       "      <td>16.0</td>\n",
       "      <td>20.0</td>\n",
       "      <td>...</td>\n",
       "      <td>19.0</td>\n",
       "      <td>24.0</td>\n",
       "      <td>1.0</td>\n",
       "      <td>9.0</td>\n",
       "      <td>13.0</td>\n",
       "      <td>7.0</td>\n",
       "      <td>1.0</td>\n",
       "      <td>184.0</td>\n",
       "      <td>596.323,70</td>\n",
       "      <td>1.388,00</td>\n",
       "    </tr>\n",
       "    <tr>\n",
       "      <th>2</th>\n",
       "      <td>2</td>\n",
       "      <td>3.0</td>\n",
       "      <td>13/10/2003</td>\n",
       "      <td>20.0</td>\n",
       "      <td>23.0</td>\n",
       "      <td>12.0</td>\n",
       "      <td>8.0</td>\n",
       "      <td>6.0</td>\n",
       "      <td>1.0</td>\n",
       "      <td>7.0</td>\n",
       "      <td>...</td>\n",
       "      <td>4.0</td>\n",
       "      <td>16.0</td>\n",
       "      <td>10.0</td>\n",
       "      <td>9.0</td>\n",
       "      <td>17.0</td>\n",
       "      <td>24.0</td>\n",
       "      <td>2.0</td>\n",
       "      <td>158.0</td>\n",
       "      <td>400.623,70</td>\n",
       "      <td>2.173,00</td>\n",
       "    </tr>\n",
       "  </tbody>\n",
       "</table>\n",
       "<p>3 rows × 22 columns</p>\n",
       "</div>"
      ],
      "text/plain": [
       "   Unnamed: 0  Concurso       Data   Bola1  Bola2  Bola3  Bola4  Bola5  Bola6  \\\n",
       "0           0       1.0  29/09/2003   18.0   20.0   25.0   23.0   10.0   11.0   \n",
       "1           1       2.0  06/10/2003   23.0   15.0    5.0    4.0   12.0   16.0   \n",
       "2           2       3.0  13/10/2003   20.0   23.0   12.0    8.0    6.0    1.0   \n",
       "\n",
       "   Bola7  ...  Bola10  Bola11  Bola12  Bola13  Bola14  Bola15  G15_Num  \\\n",
       "0   24.0  ...     2.0    13.0     9.0     5.0    16.0     3.0      5.0   \n",
       "1   20.0  ...    19.0    24.0     1.0     9.0    13.0     7.0      1.0   \n",
       "2    7.0  ...     4.0    16.0    10.0     9.0    17.0    24.0      2.0   \n",
       "\n",
       "   G14_num       Val15     Val14  \n",
       "0    154.0   49.765,82       689  \n",
       "1    184.0  596.323,70  1.388,00  \n",
       "2    158.0  400.623,70  2.173,00  \n",
       "\n",
       "[3 rows x 22 columns]"
      ]
     },
     "execution_count": 5,
     "metadata": {},
     "output_type": "execute_result"
    }
   ],
   "source": [
    "import pandas as pd\n",
    "import ydata_profiling\n",
    "from pandas_profiling import ProfileReport\n",
    "df = pd.read_csv('lotok.csv')\n",
    "df.head(3)"
   ]
  },
  {
   "cell_type": "code",
   "execution_count": 6,
   "id": "1a8ae431",
   "metadata": {},
   "outputs": [
    {
     "name": "stderr",
     "output_type": "stream",
     "text": [
      "Summarize dataset: 100%|██████████████████████████████████████████████████| 392/392 [00:25<00:00, 15.16it/s, Completed]\n",
      "Generate report structure: 100%|█████████████████████████████████████████████████████████| 1/1 [00:02<00:00,  2.94s/it]\n",
      "Render HTML: 100%|███████████████████████████████████████████████████████████████████████| 1/1 [00:05<00:00,  5.51s/it]\n",
      "Export report to file: 100%|█████████████████████████████████████████████████████████████| 1/1 [00:00<00:00,  2.24it/s]\n"
     ]
    }
   ],
   "source": [
    "profile = ProfileReport(df)\n",
    "profile.to_file(\"profile.html\")"
   ]
  },
  {
   "cell_type": "code",
   "execution_count": 7,
   "id": "3cc2deea",
   "metadata": {},
   "outputs": [
    {
     "data": {
      "text/plain": [
       "(1910, 22)"
      ]
     },
     "execution_count": 7,
     "metadata": {},
     "output_type": "execute_result"
    }
   ],
   "source": [
    "df.shape"
   ]
  },
  {
   "cell_type": "code",
   "execution_count": 8,
   "id": "f98e9da7",
   "metadata": {},
   "outputs": [
    {
     "data": {
      "text/plain": [
       "0          1.0\n",
       "1          2.0\n",
       "2          3.0\n",
       "3          4.0\n",
       "4          5.0\n",
       "         ...  \n",
       "1905    1906.0\n",
       "1906    1907.0\n",
       "1907    1908.0\n",
       "1908    1909.0\n",
       "1909    1910.0\n",
       "Name: Concurso, Length: 1910, dtype: float64"
      ]
     },
     "metadata": {},
     "output_type": "display_data"
    }
   ],
   "source": [
    "vrp = df['Concurso']\n",
    "display(vrp)"
   ]
  },
  {
   "cell_type": "code",
   "execution_count": 50,
   "id": "3e5911cb",
   "metadata": {},
   "outputs": [
    {
     "data": {
      "text/plain": [
       "Unnamed: 0      int64\n",
       "Concurso      float64\n",
       "Data           object\n",
       "Bola1         float64\n",
       "Bola2         float64\n",
       "Bola3         float64\n",
       "Bola4         float64\n",
       "Bola5         float64\n",
       "Bola6         float64\n",
       "Bola7         float64\n",
       "Bola8         float64\n",
       "Bola9         float64\n",
       "Bola10        float64\n",
       "Bola11        float64\n",
       "Bola12        float64\n",
       "Bola13        float64\n",
       "Bola14        float64\n",
       "Bola15        float64\n",
       "G15_Num       float64\n",
       "G14_num       float64\n",
       "Val15          object\n",
       "Val14          object\n",
       "dtype: object"
      ]
     },
     "execution_count": 50,
     "metadata": {},
     "output_type": "execute_result"
    }
   ],
   "source": [
    "df.dtypes"
   ]
  },
  {
   "cell_type": "code",
   "execution_count": 51,
   "id": "0d9e31bd",
   "metadata": {},
   "outputs": [
    {
     "data": {
      "text/plain": [
       "[RangeIndex(start=0, stop=1910, step=1),\n",
       " Index(['Unnamed: 0', 'Concurso', 'Data ', 'Bola1', 'Bola2', 'Bola3', 'Bola4',\n",
       "        'Bola5', 'Bola6', 'Bola7', 'Bola8', 'Bola9', 'Bola10', 'Bola11',\n",
       "        'Bola12', 'Bola13', 'Bola14', 'Bola15', 'G15_Num', 'G14_num', 'Val15',\n",
       "        'Val14'],\n",
       "       dtype='object')]"
      ]
     },
     "execution_count": 51,
     "metadata": {},
     "output_type": "execute_result"
    }
   ],
   "source": [
    "df.axes"
   ]
  },
  {
   "cell_type": "code",
   "execution_count": 52,
   "id": "d85c0715",
   "metadata": {},
   "outputs": [
    {
     "data": {
      "text/plain": [
       "0    1.0\n",
       "1    2.0\n",
       "2    3.0\n",
       "3    4.0\n",
       "4    5.0\n",
       "Name: Concurso, dtype: float64"
      ]
     },
     "execution_count": 52,
     "metadata": {},
     "output_type": "execute_result"
    }
   ],
   "source": [
    " df['Concurso'].head() # ler as rows das duas colunas"
   ]
  },
  {
   "cell_type": "code",
   "execution_count": 53,
   "id": "10ef90c2",
   "metadata": {},
   "outputs": [
    {
     "data": {
      "text/plain": [
       "RangeIndex(start=0, stop=1910, step=1)"
      ]
     },
     "execution_count": 53,
     "metadata": {},
     "output_type": "execute_result"
    }
   ],
   "source": [
    "df.index"
   ]
  },
  {
   "cell_type": "code",
   "execution_count": 54,
   "id": "f61545f3",
   "metadata": {},
   "outputs": [
    {
     "data": {
      "text/plain": [
       "0       5.0\n",
       "1       1.0\n",
       "2       2.0\n",
       "3       1.0\n",
       "4       2.0\n",
       "       ... \n",
       "1905    3.0\n",
       "1906    4.0\n",
       "1907    3.0\n",
       "1908    1.0\n",
       "1909    3.0\n",
       "Name: G15_Num, Length: 1910, dtype: float64"
      ]
     },
     "execution_count": 54,
     "metadata": {},
     "output_type": "execute_result"
    }
   ],
   "source": [
    " df['G15_Num']"
   ]
  },
  {
   "cell_type": "code",
   "execution_count": 55,
   "id": "166c20e7",
   "metadata": {},
   "outputs": [
    {
     "data": {
      "text/plain": [
       "0          49.765,82\n",
       "1         596.323,70\n",
       "2         400.623,70\n",
       "3         902.226,02\n",
       "4         380.017,55\n",
       "            ...     \n",
       "1905      932.249,54\n",
       "1906      408.154,57\n",
       "1907      530.770,32\n",
       "1908    2.130.630,60\n",
       "1909      565.404,78\n",
       "Name: Val15, Length: 1910, dtype: object"
      ]
     },
     "execution_count": 55,
     "metadata": {},
     "output_type": "execute_result"
    }
   ],
   "source": [
    " df['Val15']"
   ]
  },
  {
   "cell_type": "code",
   "execution_count": 56,
   "id": "6bac1e00",
   "metadata": {},
   "outputs": [
    {
     "data": {
      "text/plain": [
       "0            689\n",
       "1       1.388,00\n",
       "2       2.173,00\n",
       "3       1.498,00\n",
       "4            687\n",
       "          ...   \n",
       "1905    2.189,00\n",
       "1906         897\n",
       "1907    1.576,00\n",
       "1908    1.939,00\n",
       "1909    1.453,00\n",
       "Name: Val14, Length: 1910, dtype: object"
      ]
     },
     "execution_count": 56,
     "metadata": {},
     "output_type": "execute_result"
    }
   ],
   "source": [
    " df['Val14']"
   ]
  },
  {
   "cell_type": "code",
   "execution_count": 57,
   "id": "f231624b",
   "metadata": {},
   "outputs": [
    {
     "data": {
      "text/plain": [
       "0       154.0\n",
       "1       184.0\n",
       "2       158.0\n",
       "3       258.0\n",
       "4       472.0\n",
       "        ...  \n",
       "1905    393.0\n",
       "1906    800.0\n",
       "1907    444.0\n",
       "1908    338.0\n",
       "1909    513.0\n",
       "Name: G14_num, Length: 1910, dtype: float64"
      ]
     },
     "execution_count": 57,
     "metadata": {},
     "output_type": "execute_result"
    }
   ],
   "source": [
    "df['G14_num']"
   ]
  },
  {
   "cell_type": "code",
   "execution_count": 58,
   "id": "d54eec74",
   "metadata": {},
   "outputs": [
    {
     "data": {
      "text/plain": [
       "Unnamed: 0             0\n",
       "Concurso             1.0\n",
       "Data          29/09/2003\n",
       "Bola1               18.0\n",
       "Bola2               20.0\n",
       "Bola3               25.0\n",
       "Bola4               23.0\n",
       "Bola5               10.0\n",
       "Bola6               11.0\n",
       "Bola7               24.0\n",
       "Bola8               14.0\n",
       "Bola9                6.0\n",
       "Bola10               2.0\n",
       "Bola11              13.0\n",
       "Bola12               9.0\n",
       "Bola13               5.0\n",
       "Bola14              16.0\n",
       "Bola15               3.0\n",
       "G15_Num              5.0\n",
       "G14_num            154.0\n",
       "Val15          49.765,82\n",
       "Val14                689\n",
       "Name: 0, dtype: object"
      ]
     },
     "execution_count": 58,
     "metadata": {},
     "output_type": "execute_result"
    }
   ],
   "source": [
    "df.loc[0]"
   ]
  },
  {
   "cell_type": "code",
   "execution_count": 59,
   "id": "9df81504",
   "metadata": {},
   "outputs": [
    {
     "data": {
      "text/html": [
       "<div>\n",
       "<style scoped>\n",
       "    .dataframe tbody tr th:only-of-type {\n",
       "        vertical-align: middle;\n",
       "    }\n",
       "\n",
       "    .dataframe tbody tr th {\n",
       "        vertical-align: top;\n",
       "    }\n",
       "\n",
       "    .dataframe thead th {\n",
       "        text-align: right;\n",
       "    }\n",
       "</style>\n",
       "<table border=\"1\" class=\"dataframe\">\n",
       "  <thead>\n",
       "    <tr style=\"text-align: right;\">\n",
       "      <th></th>\n",
       "      <th>Unnamed: 0</th>\n",
       "      <th>Concurso</th>\n",
       "      <th>Data</th>\n",
       "      <th>Bola1</th>\n",
       "      <th>Bola2</th>\n",
       "      <th>Bola3</th>\n",
       "      <th>Bola4</th>\n",
       "      <th>Bola5</th>\n",
       "      <th>Bola6</th>\n",
       "      <th>Bola7</th>\n",
       "      <th>...</th>\n",
       "      <th>Bola10</th>\n",
       "      <th>Bola11</th>\n",
       "      <th>Bola12</th>\n",
       "      <th>Bola13</th>\n",
       "      <th>Bola14</th>\n",
       "      <th>Bola15</th>\n",
       "      <th>G15_Num</th>\n",
       "      <th>G14_num</th>\n",
       "      <th>Val15</th>\n",
       "      <th>Val14</th>\n",
       "    </tr>\n",
       "  </thead>\n",
       "  <tbody>\n",
       "    <tr>\n",
       "      <th>0</th>\n",
       "      <td>0</td>\n",
       "      <td>1.0</td>\n",
       "      <td>29/09/2003</td>\n",
       "      <td>18.0</td>\n",
       "      <td>20.0</td>\n",
       "      <td>25.0</td>\n",
       "      <td>23.0</td>\n",
       "      <td>10.0</td>\n",
       "      <td>11.0</td>\n",
       "      <td>24.0</td>\n",
       "      <td>...</td>\n",
       "      <td>2.0</td>\n",
       "      <td>13.0</td>\n",
       "      <td>9.0</td>\n",
       "      <td>5.0</td>\n",
       "      <td>16.0</td>\n",
       "      <td>3.0</td>\n",
       "      <td>5.0</td>\n",
       "      <td>154.0</td>\n",
       "      <td>49.765,82</td>\n",
       "      <td>689</td>\n",
       "    </tr>\n",
       "    <tr>\n",
       "      <th>1</th>\n",
       "      <td>1</td>\n",
       "      <td>2.0</td>\n",
       "      <td>06/10/2003</td>\n",
       "      <td>23.0</td>\n",
       "      <td>15.0</td>\n",
       "      <td>5.0</td>\n",
       "      <td>4.0</td>\n",
       "      <td>12.0</td>\n",
       "      <td>16.0</td>\n",
       "      <td>20.0</td>\n",
       "      <td>...</td>\n",
       "      <td>19.0</td>\n",
       "      <td>24.0</td>\n",
       "      <td>1.0</td>\n",
       "      <td>9.0</td>\n",
       "      <td>13.0</td>\n",
       "      <td>7.0</td>\n",
       "      <td>1.0</td>\n",
       "      <td>184.0</td>\n",
       "      <td>596.323,70</td>\n",
       "      <td>1.388,00</td>\n",
       "    </tr>\n",
       "    <tr>\n",
       "      <th>2</th>\n",
       "      <td>2</td>\n",
       "      <td>3.0</td>\n",
       "      <td>13/10/2003</td>\n",
       "      <td>20.0</td>\n",
       "      <td>23.0</td>\n",
       "      <td>12.0</td>\n",
       "      <td>8.0</td>\n",
       "      <td>6.0</td>\n",
       "      <td>1.0</td>\n",
       "      <td>7.0</td>\n",
       "      <td>...</td>\n",
       "      <td>4.0</td>\n",
       "      <td>16.0</td>\n",
       "      <td>10.0</td>\n",
       "      <td>9.0</td>\n",
       "      <td>17.0</td>\n",
       "      <td>24.0</td>\n",
       "      <td>2.0</td>\n",
       "      <td>158.0</td>\n",
       "      <td>400.623,70</td>\n",
       "      <td>2.173,00</td>\n",
       "    </tr>\n",
       "  </tbody>\n",
       "</table>\n",
       "<p>3 rows × 22 columns</p>\n",
       "</div>"
      ],
      "text/plain": [
       "   Unnamed: 0  Concurso       Data   Bola1  Bola2  Bola3  Bola4  Bola5  Bola6  \\\n",
       "0           0       1.0  29/09/2003   18.0   20.0   25.0   23.0   10.0   11.0   \n",
       "1           1       2.0  06/10/2003   23.0   15.0    5.0    4.0   12.0   16.0   \n",
       "2           2       3.0  13/10/2003   20.0   23.0   12.0    8.0    6.0    1.0   \n",
       "\n",
       "   Bola7  ...  Bola10  Bola11  Bola12  Bola13  Bola14  Bola15  G15_Num  \\\n",
       "0   24.0  ...     2.0    13.0     9.0     5.0    16.0     3.0      5.0   \n",
       "1   20.0  ...    19.0    24.0     1.0     9.0    13.0     7.0      1.0   \n",
       "2    7.0  ...     4.0    16.0    10.0     9.0    17.0    24.0      2.0   \n",
       "\n",
       "   G14_num       Val15     Val14  \n",
       "0    154.0   49.765,82       689  \n",
       "1    184.0  596.323,70  1.388,00  \n",
       "2    158.0  400.623,70  2.173,00  \n",
       "\n",
       "[3 rows x 22 columns]"
      ]
     },
     "execution_count": 59,
     "metadata": {},
     "output_type": "execute_result"
    }
   ],
   "source": [
    "df.loc[0:2]"
   ]
  },
  {
   "cell_type": "code",
   "execution_count": 60,
   "id": "a14c9e64",
   "metadata": {},
   "outputs": [
    {
     "data": {
      "text/plain": [
       "Unnamed: 0          7772\n",
       "Concurso          1910.0\n",
       "Data          30/12/2019\n",
       "Bola1               22.0\n",
       "Bola2                3.0\n",
       "Bola3                9.0\n",
       "Bola4               14.0\n",
       "Bola5               15.0\n",
       "Bola6                4.0\n",
       "Bola7               16.0\n",
       "Bola8                2.0\n",
       "Bola9                7.0\n",
       "Bola10              18.0\n",
       "Bola11              10.0\n",
       "Bola12              23.0\n",
       "Bola13              13.0\n",
       "Bola14              25.0\n",
       "Bola15              12.0\n",
       "G15_Num              3.0\n",
       "G14_num            513.0\n",
       "Val15         565.404,78\n",
       "Val14           1.453,00\n",
       "Name: 1909, dtype: object"
      ]
     },
     "execution_count": 60,
     "metadata": {},
     "output_type": "execute_result"
    }
   ],
   "source": [
    "df.loc[1909]"
   ]
  },
  {
   "cell_type": "code",
   "execution_count": 61,
   "id": "2569fbcf",
   "metadata": {},
   "outputs": [
    {
     "name": "stdout",
     "output_type": "stream",
     "text": [
      "<class 'pandas.core.frame.DataFrame'>\n",
      "RangeIndex: 1910 entries, 0 to 1909\n",
      "Data columns (total 22 columns):\n",
      " #   Column      Non-Null Count  Dtype  \n",
      "---  ------      --------------  -----  \n",
      " 0   Unnamed: 0  1910 non-null   int64  \n",
      " 1   Concurso    1910 non-null   float64\n",
      " 2   Data        1910 non-null   object \n",
      " 3   Bola1       1910 non-null   float64\n",
      " 4   Bola2       1910 non-null   float64\n",
      " 5   Bola3       1910 non-null   float64\n",
      " 6   Bola4       1910 non-null   float64\n",
      " 7   Bola5       1910 non-null   float64\n",
      " 8   Bola6       1910 non-null   float64\n",
      " 9   Bola7       1910 non-null   float64\n",
      " 10  Bola8       1910 non-null   float64\n",
      " 11  Bola9       1910 non-null   float64\n",
      " 12  Bola10      1910 non-null   float64\n",
      " 13  Bola11      1910 non-null   float64\n",
      " 14  Bola12      1910 non-null   float64\n",
      " 15  Bola13      1910 non-null   float64\n",
      " 16  Bola14      1910 non-null   float64\n",
      " 17  Bola15      1910 non-null   float64\n",
      " 18  G15_Num     1910 non-null   float64\n",
      " 19  G14_num     1910 non-null   float64\n",
      " 20  Val15       1910 non-null   object \n",
      " 21  Val14       1910 non-null   object \n",
      "dtypes: float64(18), int64(1), object(3)\n",
      "memory usage: 328.4+ KB\n"
     ]
    }
   ],
   "source": [
    "df.info()"
   ]
  },
  {
   "cell_type": "code",
   "execution_count": 66,
   "id": "d4c6e35b",
   "metadata": {},
   "outputs": [
    {
     "data": {
      "text/plain": [
       "Index(['Unnamed: 0', 'Concurso', 'Data ', 'Bola1', 'Bola2', 'Bola3', 'Bola4',\n",
       "       'Bola5', 'Bola6', 'Bola7', 'Bola8', 'Bola9', 'Bola10', 'Bola11',\n",
       "       'Bola12', 'Bola13', 'Bola14', 'Bola15', 'G15_Num', 'G14_num', 'Val15',\n",
       "       'Val14', 'FLAG'],\n",
       "      dtype='object')"
      ]
     },
     "execution_count": 66,
     "metadata": {},
     "output_type": "execute_result"
    }
   ],
   "source": [
    "df.columns"
   ]
  },
  {
   "cell_type": "code",
   "execution_count": 67,
   "id": "3842ddf7",
   "metadata": {},
   "outputs": [],
   "source": [
    "df['FLAG'] = 0 # Cria a coluna FLAG"
   ]
  },
  {
   "cell_type": "code",
   "execution_count": 68,
   "id": "2f65e7cb",
   "metadata": {},
   "outputs": [],
   "source": [
    "for index, row in df.iterrows():    # Ativa FLAG para 1 ocorrencias Bola1\n",
    "    if row['Bola1'] == 1:\n",
    "        df.loc[index,'FLAG'] = 1\n"
   ]
  },
  {
   "cell_type": "code",
   "execution_count": 73,
   "id": "c337a94f",
   "metadata": {},
   "outputs": [
    {
     "data": {
      "text/plain": [
       "Unnamed: 0                                               369389\n",
       "Concurso                                                88817.0\n",
       "Data          08/03/200426/04/200412/07/200402/08/200409/05/...\n",
       "Bola1                                                      95.0\n",
       "Bola2                                                    1249.0\n",
       "Bola3                                                    1231.0\n",
       "Bola4                                                    1334.0\n",
       "Bola5                                                    1244.0\n",
       "Bola6                                                    1218.0\n",
       "Bola7                                                    1448.0\n",
       "Bola8                                                    1218.0\n",
       "Bola9                                                    1339.0\n",
       "Bola10                                                   1380.0\n",
       "Bola11                                                   1255.0\n",
       "Bola12                                                   1359.0\n",
       "Bola13                                                   1114.0\n",
       "Bola14                                                   1316.0\n",
       "Bola15                                                   1349.0\n",
       "G15_Num                                                   334.0\n",
       "G14_num                                                 54673.0\n",
       "Val15         662.295,89503.451,701.731.431,15731.525,8886.4...\n",
       "Val14         9702.589,002.114,009414851.750,001.944,001.427...\n",
       "FLAG                                                         95\n",
       "dtype: object"
      ]
     },
     "metadata": {},
     "output_type": "display_data"
    }
   ],
   "source": [
    "acbol = df[df['Bola1'] == 1].sum() # Lista FLAG = 1\n",
    "actot = acbol\n",
    "display(actot)"
   ]
  },
  {
   "cell_type": "code",
   "execution_count": 74,
   "id": "1b70a368",
   "metadata": {},
   "outputs": [],
   "source": [
    "for index, row in df.iterrows(): # Ativa FLAG para 1 ocorrencias Bola2\n",
    "    if row['Bola2'] == 1:\n",
    "        df.loc[index,'FLAG'] = 1"
   ]
  },
  {
   "cell_type": "code",
   "execution_count": 75,
   "id": "664f78b0",
   "metadata": {},
   "outputs": [
    {
     "data": {
      "text/plain": [
       "Unnamed: 0                                               721595\n",
       "Concurso                                               173645.0\n",
       "Data          08/03/200426/04/200412/07/200402/08/200409/05/...\n",
       "Bola1                                                    1188.0\n",
       "Bola2                                                    1336.0\n",
       "Bola3                                                    2500.0\n",
       "Bola4                                                    2544.0\n",
       "Bola5                                                    2440.0\n",
       "Bola6                                                    2317.0\n",
       "Bola7                                                    2685.0\n",
       "Bola8                                                    2442.0\n",
       "Bola9                                                    2450.0\n",
       "Bola10                                                   2470.0\n",
       "Bola11                                                   2424.0\n",
       "Bola12                                                   2524.0\n",
       "Bola13                                                   2351.0\n",
       "Bola14                                                   2566.0\n",
       "Bola15                                                   2602.0\n",
       "G15_Num                                                   672.0\n",
       "G14_num                                                117623.0\n",
       "Val15         662.295,89503.451,701.731.431,15731.525,8886.4...\n",
       "Val14         9702.589,002.114,009414851.750,001.944,001.427...\n",
       "FLAG                                                        182\n",
       "dtype: object"
      ]
     },
     "metadata": {},
     "output_type": "display_data"
    }
   ],
   "source": [
    "acbol = df[df['Bola2'] == 1].sum() # Lista FLAG = 1\n",
    "actot = actot + acbol\n",
    "display(actot)"
   ]
  },
  {
   "cell_type": "code",
   "execution_count": 76,
   "id": "97ec79fd",
   "metadata": {},
   "outputs": [],
   "source": [
    "for index, row in df.iterrows(): # Ativa FLAG para 1 ocorrencias Bola2\n",
    "    if row['Bola3'] == 1:\n",
    "        df.loc[index,'FLAG'] = 1"
   ]
  },
  {
   "cell_type": "code",
   "execution_count": 77,
   "id": "c6e90fff",
   "metadata": {},
   "outputs": [
    {
     "data": {
      "text/plain": [
       "Unnamed: 0                                              1035113\n",
       "Concurso                                               248916.0\n",
       "Data          08/03/200426/04/200412/07/200402/08/200409/05/...\n",
       "Bola1                                                    2290.0\n",
       "Bola2                                                    2367.0\n",
       "Bola3                                                    2578.0\n",
       "Bola4                                                    3559.0\n",
       "Bola5                                                    3415.0\n",
       "Bola6                                                    3371.0\n",
       "Bola7                                                    3740.0\n",
       "Bola8                                                    3559.0\n",
       "Bola9                                                    3661.0\n",
       "Bola10                                                   3475.0\n",
       "Bola11                                                   3487.0\n",
       "Bola12                                                   3581.0\n",
       "Bola13                                                   3473.0\n",
       "Bola14                                                   3537.0\n",
       "Bola15                                                   3759.0\n",
       "G15_Num                                                   975.0\n",
       "G14_num                                                166738.0\n",
       "Val15         662.295,89503.451,701.731.431,15731.525,8886.4...\n",
       "Val14         9702.589,002.114,009414851.750,001.944,001.427...\n",
       "FLAG                                                        260\n",
       "dtype: object"
      ]
     },
     "metadata": {},
     "output_type": "display_data"
    }
   ],
   "source": [
    "acbol = df[df['Bola3'] == 1].sum() # Lista FLAG = 1\n",
    "actot = actot + acbol\n",
    "display(actot)"
   ]
  },
  {
   "cell_type": "code",
   "execution_count": 79,
   "id": "26557f81",
   "metadata": {},
   "outputs": [
    {
     "data": {
      "text/plain": [
       "Index(['Unnamed: 0', 'Concurso', 'Data ', 'Bola1', 'Bola2', 'Bola3', 'Bola4',\n",
       "       'Bola5', 'Bola6', 'Bola7', 'Bola8', 'Bola9', 'Bola10', 'Bola11',\n",
       "       'Bola12', 'Bola13', 'Bola14', 'Bola15', 'G15_Num', 'G14_num', 'Val15',\n",
       "       'Val14', 'FLAG'],\n",
       "      dtype='object')"
      ]
     },
     "execution_count": 79,
     "metadata": {},
     "output_type": "execute_result"
    }
   ],
   "source": [
    "df.columns"
   ]
  },
  {
   "cell_type": "code",
   "execution_count": null,
   "id": "4f7c8fb1",
   "metadata": {},
   "outputs": [],
   "source": []
  }
 ],
 "metadata": {
  "kernelspec": {
   "display_name": "Python 3 (ipykernel)",
   "language": "python",
   "name": "python3"
  },
  "language_info": {
   "codemirror_mode": {
    "name": "ipython",
    "version": 3
   },
   "file_extension": ".py",
   "mimetype": "text/x-python",
   "name": "python",
   "nbconvert_exporter": "python",
   "pygments_lexer": "ipython3",
   "version": "3.10.6"
  }
 },
 "nbformat": 4,
 "nbformat_minor": 5
}
