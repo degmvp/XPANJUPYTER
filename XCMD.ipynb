{
 "cells": [
  {
   "cell_type": "code",
   "execution_count": 1,
   "id": "c4d57827",
   "metadata": {},
   "outputs": [],
   "source": [
    "import pandas as pd\n",
    "import numpy as np"
   ]
  },
  {
   "cell_type": "code",
   "execution_count": 13,
   "id": "7a5f772d",
   "metadata": {},
   "outputs": [
    {
     "name": "stdout",
     "output_type": "stream",
     "text": [
      "resto da divisao igual zero\n",
      "234 / 3 = 78.0\n",
      "resto da divisao igual zero\n",
      "654 / 3 = 218.0\n",
      "resto da divisao igual zero\n",
      "378 / 3 = 126.0\n",
      "resto da divisao igual zero\n",
      "798 / 3 = 266.0\n"
     ]
    }
   ],
   "source": [
    "# Para i na lista 234, 654, 378, 798:\n",
    "for i in [234, 654, 378, 798]:\n",
    " # Se o resto dividindo por 3 for igual a zero:\n",
    " if i % 3 == 0:\n",
    "        print('resto da divisao igual zero')         \n",
    "        print(i, '/ 3 =', i / 3)\n",
    "           \n"
   ]
  },
  {
   "cell_type": "code",
   "execution_count": 17,
   "id": "e5affc59",
   "metadata": {},
   "outputs": [
    {
     "name": "stdout",
     "output_type": "stream",
     "text": [
      "Entre com a temperatura: 32\n",
      "Quente\n"
     ]
    }
   ],
   "source": [
    "temp = int(input('Entre com a temperatura: '))\n",
    "if temp < 0:\n",
    " print('Congelando...')\n",
    "elif 0 <= temp <= 20:\n",
    " print('Frio')\n",
    "elif 21 <= temp <= 25:\n",
    " print('Normal')\n",
    "elif 26 <= temp <= 35:\n",
    " print('Quente')\n",
    "else:\n",
    " print('Muito quente!')"
   ]
  },
  {
   "cell_type": "code",
   "execution_count": 25,
   "id": "b2dfc5c7",
   "metadata": {},
   "outputs": [
    {
     "name": "stdout",
     "output_type": "stream",
     "text": [
      "1\n",
      "2\n",
      "3\n",
      "4\n",
      "5\n",
      "6\n",
      "7\n",
      "8\n",
      "9\n",
      "10\n",
      "55\n"
     ]
    }
   ],
   "source": [
    "# Soma de 0 a 11\n",
    "s = 0\n",
    "for x in range(1, 11):\n",
    " s = s + x\n",
    " print(x)\n",
    "print(s)"
   ]
  },
  {
   "cell_type": "code",
   "execution_count": 24,
   "id": "cfd366be",
   "metadata": {},
   "outputs": [
    {
     "name": "stdout",
     "output_type": "stream",
     "text": [
      "1\n",
      "2\n",
      "3\n",
      "4\n",
      "5\n",
      "6\n",
      "7\n",
      "8\n",
      "9\n",
      "10\n",
      "55\n"
     ]
    }
   ],
   "source": [
    "# Soma de 0 a 11\n",
    "s = 0\n",
    "x = 1\n",
    "while x < 11:\n",
    " print(x)  \n",
    " s = s + x\n",
    " x = x + 1\n",
    "    \n",
    "print(s)"
   ]
  },
  {
   "cell_type": "code",
   "execution_count": 28,
   "id": "bca3612c",
   "metadata": {},
   "outputs": [
    {
     "name": "stdout",
     "output_type": "stream",
     "text": [
      "int(3.14) = 3\n",
      "float(5) = 5.0\n",
      "5.0 / 2 + 3 =  5.5\n"
     ]
    }
   ],
   "source": [
    "# Convertendo de real para inteiro\n",
    "print('int(3.14) =', int(3.14))\n",
    "# Convertendo de inteiro para real\n",
    "print('float(5) =', float(5))\n",
    "# Calculo entre inteiro e real resulta em real\n",
    "print('5.0 / 2 + 3 = ', 5.0 / 2 + 3)\n"
   ]
  },
  {
   "cell_type": "code",
   "execution_count": 29,
   "id": "56eccfd7",
   "metadata": {},
   "outputs": [
    {
     "name": "stdout",
     "output_type": "stream",
     "text": [
      "0    0o24\n",
      "dtype: object\n",
      "0    0x14\n",
      "dtype: object\n"
     ]
    }
   ],
   "source": [
    "# create a Series with an integer value\n",
    "s = pd.Series([20])\n",
    "\n",
    "# apply oct() and hex() functions to convert the integer to octal and hexadecimal\n",
    "s_octal = s.apply(oct)\n",
    "s_hex = s.apply(hex)\n",
    "\n",
    "print(s_octal)\n",
    "# output: 0    0o24\n",
    "#         dtype: object\n",
    "\n",
    "print(s_hex)\n",
    "# output: 0    0x14"
   ]
  },
  {
   "cell_type": "code",
   "execution_count": 31,
   "id": "05bf98f8",
   "metadata": {},
   "outputs": [
    {
     "name": "stdout",
     "output_type": "stream",
     "text": [
      "The Camel run away!\n",
      "tamanho de Camel => 5\n",
      "C\n",
      "a\n",
      "m\n",
      "e\n",
      "l\n",
      "CAMEL\n",
      "CamelCamelCamel\n"
     ]
    }
   ],
   "source": [
    "s = 'Camel'\n",
    "# Concatenação\n",
    "print('The ' + s + ' run away!')\n",
    "# Interpolação\n",
    "print('tamanho de %s => %d' % (s, len(s)))\n",
    "# String tratada como sequência\n",
    "for ch in s: print(ch)\n",
    "# Strings são objetos\n",
    "if s.startswith('C'): print(s.upper())\n",
    "# o que acontecerá?\n",
    "print (3 * s)"
   ]
  },
  {
   "cell_type": "code",
   "execution_count": 33,
   "id": "3a4b8a2a",
   "metadata": {},
   "outputs": [
    {
     "name": "stdout",
     "output_type": "stream",
     "text": [
      "Agora são 16:30.\n",
      "Percentagem: 5.3%, Exponencial:1.84e-01\n",
      "Decimal: 10, Octal: 12, Hexadecimal: a\n"
     ]
    }
   ],
   "source": [
    "# Zeros a esquerda\n",
    "print('Agora são %02d:%02d.' % (16, 30))\n",
    "# Real (número após o ponto controla as casas decimais)\n",
    "print('Percentagem: %.1f%%, Exponencial:%.2e' % (5.333,.18446744073709551616))\n",
    "# Octal e hexadecimal\n",
    "print('Decimal: %d, Octal: %o, Hexadecimal: %x' % (10, 10, 10))"
   ]
  },
  {
   "cell_type": "code",
   "execution_count": 35,
   "id": "add2d238",
   "metadata": {},
   "outputs": [
    {
     "name": "stdout",
     "output_type": "stream",
     "text": [
      "18446744073709551616\n",
      "340282366920938463463374607431768211456\n"
     ]
    }
   ],
   "source": [
    "x = 2**64\n",
    "print(x)\n",
    "y = 2**128\n",
    "print(y)"
   ]
  },
  {
   "cell_type": "code",
   "execution_count": 37,
   "id": "778f094a",
   "metadata": {},
   "outputs": [
    {
     "name": "stdout",
     "output_type": "stream",
     "text": [
      "asobraB semoG ramgeD\n"
     ]
    }
   ],
   "source": [
    "print('Degmar Gomes Barbosa'[::-1])"
   ]
  },
  {
   "cell_type": "code",
   "execution_count": 51,
   "id": "b4bc9a7f",
   "metadata": {},
   "outputs": [
    {
     "name": "stdout",
     "output_type": "stream",
     "text": [
      "abcdefghijklmnopqrstuvwxyzABCDEFGHIJKLMNOPQRSTUVWXYZ\n",
      "cdefghijklmnopqrstuvwxyzABCDEFGHIJKLMNOPQRSTUVWXYZa\n"
     ]
    }
   ],
   "source": [
    "# importando o módulo string\n",
    "import string\n",
    "# O alfabeto\n",
    "a = string.ascii_letters\n",
    "# Rodando o alfabeto um caractere para a esquerda\n",
    "b = a[2:] + a[0]\n",
    "\n",
    "print(a)\n",
    "print(b)"
   ]
  },
  {
   "cell_type": "code",
   "execution_count": 57,
   "id": "7bf00556",
   "metadata": {},
   "outputs": [
    {
     "name": "stdout",
     "output_type": "stream",
     "text": [
      "123456\n"
     ]
    }
   ],
   "source": [
    "# create a mapping table using maketrans()\n",
    "mapping = str.maketrans(\"abcdef\", \"123456\")\n",
    "\n",
    "# use the mapping table to translate a string\n",
    "text = \"abcdef\"\n",
    "translated = text.translate(mapping)\n",
    "print(translated)"
   ]
  },
  {
   "cell_type": "code",
   "execution_count": 59,
   "id": "665f025c",
   "metadata": {},
   "outputs": [
    {
     "name": "stdout",
     "output_type": "stream",
     "text": [
      "Yes\n",
      "Genesis\n",
      "Pink Floyd\n",
      "ELP\n",
      "1 => Yes\n",
      "2 => King Crimson\n",
      "3 => Genesis\n",
      "4 => Camel\n",
      "['King Crimson', 'Genesis', 'Camel']\n"
     ]
    }
   ],
   "source": [
    "# Uma nova lista: Brit Progs dos anos 70\n",
    "progs = ['Yes', 'Genesis', 'Pink Floyd', 'ELP']\n",
    "# Varrendo a lista inteira\n",
    "for prog in progs:\n",
    " print(prog)\n",
    "\n",
    "# Trocando o último elemento\n",
    "progs[-1] = 'King Crimson'\n",
    "\n",
    "# Incluindo\n",
    "progs.append('Camel')\n",
    "\n",
    "# Removendo\n",
    "progs.remove('Pink Floyd')\n",
    "\n",
    "# Ordena a lista\n",
    "progs.sort()\n",
    "# Inverte a lista\n",
    "progs.reverse()\n",
    "# Imprime numerado\n",
    "for i, prog in enumerate(progs):\n",
    " print(i + 1, '=>', prog)\n",
    "# Imprime do segundo item em diante\n",
    "print(progs[1:])"
   ]
  },
  {
   "cell_type": "code",
   "execution_count": 6,
   "id": "28f0f445",
   "metadata": {},
   "outputs": [
    {
     "name": "stdout",
     "output_type": "stream",
     "text": [
      "{(1, 0): 9, (2, 9): 4, (3, 7): 3, (4, 6): 5, (5, 4): 6}\n"
     ]
    }
   ],
   "source": [
    "matriz = '''0 0 0 0 0 0 0 0 0 0 0 0\n",
    "9 0 0 0 0 0 0 0 0 0 0 0\n",
    "0 0 0 0 0 0 0 0 0 4 0 0\n",
    "0 0 0 0 0 0 0 3 0 0 0 0\n",
    "0 0 0 0 0 0 5 0 0 0 0 0\n",
    "0 0 0 0 6 0 0 0 0 0 0 0'''\n",
    "\n",
    "mat = {}\n",
    "\n",
    "# Quebra a matriz em linhas\n",
    "for lin, linha in enumerate(matriz.splitlines()):\n",
    "    # Quebra a linha em colunas\n",
    "    for col, coluna in enumerate(linha.split()):\n",
    "        coluna = int(coluna)\n",
    "        # Coloca a coluna no resultado,\n",
    "        # se for diferente de zero\n",
    "        if coluna:\n",
    "            mat[lin, col] = coluna\n",
    "print(mat)"
   ]
  },
  {
   "cell_type": "code",
   "execution_count": 7,
   "id": "c5e3093e",
   "metadata": {},
   "outputs": [
    {
     "name": "stdout",
     "output_type": "stream",
     "text": [
      "Tamanho da matriz completa: 72\n",
      "Tamanho da matriz esparsa: 5\n"
     ]
    }
   ],
   "source": [
    "# Some um nas dimensões pois a contagem começa em zero\n",
    "print('Tamanho da matriz completa:', (lin + 1) * (col + 1))\n",
    "print('Tamanho da matriz esparsa:', len(mat))"
   ]
  },
  {
   "cell_type": "code",
   "execution_count": 10,
   "id": "51295394",
   "metadata": {},
   "outputs": [
    {
     "name": "stdout",
     "output_type": "stream",
     "text": [
      "#c8c8ff\n"
     ]
    }
   ],
   "source": [
    "def rgb_html(r=0, g=0, b=0):\n",
    " return '#%02x%02x%02x' % (r, g, b)\n",
    "print(rgb_html(200, 200, 255))"
   ]
  },
  {
   "cell_type": "code",
   "execution_count": 13,
   "id": "0a0e2cf9",
   "metadata": {},
   "outputs": [
    {
     "name": "stdout",
     "output_type": "stream",
     "text": [
      "('peso', 10)\n",
      "{'unidade': 'k'}\n",
      "('peso', 10) {'unidade': 'k'}\n",
      "('Deg - Programador', 10)\n",
      "{'linguagens': 'Varias'}\n",
      "('Deg - Programador', 10) {'linguagens': 'Varias'}\n"
     ]
    }
   ],
   "source": [
    "# *args - argumentos sem nome (lista)\n",
    "# **kargs - argumentos com nome (dicionário)\n",
    "\n",
    "def func(*args, **kargs):\n",
    " print(args)\n",
    " print(kargs)\n",
    " print(args,kargs)\n",
    "    \n",
    "    \n",
    "func('peso', 10, unidade='k')\n",
    "\n",
    "func('Deg - Programador', 10, linguagens= 'Varias')"
   ]
  },
  {
   "cell_type": "code",
   "execution_count": 2,
   "id": "31decdf1",
   "metadata": {},
   "outputs": [],
   "source": [
    "import csv\n",
    "\n",
    "# Data\n",
    "dt = (('temperatura', 15.0, 'C', '10:40', '2006-12-31'),\n",
    "      ('peso', 42.5, 'kg', '10:45', '2006-12-31'))\n",
    "\n",
    "# Open file for writing and create a CSV writer object\n",
    "with open('dt.csv', 'w', newline='') as f:\n",
    "    out = csv.writer(f)\n",
    "\n",
    "    # Write data to CSV file\n",
    "    out.writerows(dt)\n",
    "\n",
    "    "
   ]
  },
  {
   "cell_type": "code",
   "execution_count": 4,
   "id": "475ac3c1",
   "metadata": {},
   "outputs": [
    {
     "data": {
      "text/html": [
       "<div>\n",
       "<style scoped>\n",
       "    .dataframe tbody tr th:only-of-type {\n",
       "        vertical-align: middle;\n",
       "    }\n",
       "\n",
       "    .dataframe tbody tr th {\n",
       "        vertical-align: top;\n",
       "    }\n",
       "\n",
       "    .dataframe thead th {\n",
       "        text-align: right;\n",
       "    }\n",
       "</style>\n",
       "<table border=\"1\" class=\"dataframe\">\n",
       "  <thead>\n",
       "    <tr style=\"text-align: right;\">\n",
       "      <th></th>\n",
       "      <th>CódigoCompra</th>\n",
       "      <th>Data</th>\n",
       "      <th>Fornecedor</th>\n",
       "      <th>Produto</th>\n",
       "      <th>Quantidade</th>\n",
       "      <th>ValorUnitário</th>\n",
       "      <th>ValorFinal</th>\n",
       "    </tr>\n",
       "  </thead>\n",
       "  <tbody>\n",
       "    <tr>\n",
       "      <th>0</th>\n",
       "      <td>65014</td>\n",
       "      <td>01/12/2023</td>\n",
       "      <td>Fabrica Hashtag Brasil</td>\n",
       "      <td>Óleo Motor - Linha A</td>\n",
       "      <td>5</td>\n",
       "      <td>259.00</td>\n",
       "      <td>1295.00</td>\n",
       "    </tr>\n",
       "    <tr>\n",
       "      <th>1</th>\n",
       "      <td>65014</td>\n",
       "      <td>01/12/2023</td>\n",
       "      <td>Fabrica Hashtag Brasil</td>\n",
       "      <td>Kit Embreagem - Linha A</td>\n",
       "      <td>1</td>\n",
       "      <td>380.00</td>\n",
       "      <td>380.00</td>\n",
       "    </tr>\n",
       "    <tr>\n",
       "      <th>2</th>\n",
       "      <td>65016</td>\n",
       "      <td>01/12/2023</td>\n",
       "      <td>Fabrica Doidona Brasil</td>\n",
       "      <td>Bateria - Linha A</td>\n",
       "      <td>2</td>\n",
       "      <td>479.00</td>\n",
       "      <td>958.00</td>\n",
       "    </tr>\n",
       "    <tr>\n",
       "      <th>3</th>\n",
       "      <td>65016</td>\n",
       "      <td>01/12/2023</td>\n",
       "      <td>Fabrica Doidona Brasil</td>\n",
       "      <td>Filtro de Óleo - Linha A</td>\n",
       "      <td>1</td>\n",
       "      <td>18.90</td>\n",
       "      <td>18.90</td>\n",
       "    </tr>\n",
       "    <tr>\n",
       "      <th>4</th>\n",
       "      <td>65017</td>\n",
       "      <td>01/12/2023</td>\n",
       "      <td>Original Fábrica Brasil</td>\n",
       "      <td>Farol Principal - Linha A</td>\n",
       "      <td>3</td>\n",
       "      <td>159.90</td>\n",
       "      <td>479.70</td>\n",
       "    </tr>\n",
       "    <tr>\n",
       "      <th>...</th>\n",
       "      <td>...</td>\n",
       "      <td>...</td>\n",
       "      <td>...</td>\n",
       "      <td>...</td>\n",
       "      <td>...</td>\n",
       "      <td>...</td>\n",
       "      <td>...</td>\n",
       "    </tr>\n",
       "    <tr>\n",
       "      <th>4538</th>\n",
       "      <td>69996</td>\n",
       "      <td>26/12/2023</td>\n",
       "      <td>Revenda Argentina</td>\n",
       "      <td>Logo Hashtag - Linha A</td>\n",
       "      <td>2</td>\n",
       "      <td>10.00</td>\n",
       "      <td>20.00</td>\n",
       "    </tr>\n",
       "    <tr>\n",
       "      <th>4539</th>\n",
       "      <td>69996</td>\n",
       "      <td>26/12/2023</td>\n",
       "      <td>Revenda Argentina</td>\n",
       "      <td>Terminal de Direção - Linha B</td>\n",
       "      <td>4</td>\n",
       "      <td>156.40</td>\n",
       "      <td>625.60</td>\n",
       "    </tr>\n",
       "    <tr>\n",
       "      <th>4540</th>\n",
       "      <td>69996</td>\n",
       "      <td>26/12/2023</td>\n",
       "      <td>Revenda Argentina</td>\n",
       "      <td>Farol Principal - Linha B</td>\n",
       "      <td>1</td>\n",
       "      <td>183.89</td>\n",
       "      <td>183.89</td>\n",
       "    </tr>\n",
       "    <tr>\n",
       "      <th>4541</th>\n",
       "      <td>69997</td>\n",
       "      <td>26/12/2023</td>\n",
       "      <td>Fabrica Doidona Mexico</td>\n",
       "      <td>Pneus - Linha A</td>\n",
       "      <td>1</td>\n",
       "      <td>359.91</td>\n",
       "      <td>359.91</td>\n",
       "    </tr>\n",
       "    <tr>\n",
       "      <th>4542</th>\n",
       "      <td>69997</td>\n",
       "      <td>26/12/2023</td>\n",
       "      <td>Fabrica Doidona Mexico</td>\n",
       "      <td>Kit Embreagem - Linha C</td>\n",
       "      <td>2</td>\n",
       "      <td>502.55</td>\n",
       "      <td>1005.10</td>\n",
       "    </tr>\n",
       "  </tbody>\n",
       "</table>\n",
       "<p>4543 rows × 7 columns</p>\n",
       "</div>"
      ],
      "text/plain": [
       "      CódigoCompra        Data               Fornecedor  \\\n",
       "0            65014  01/12/2023   Fabrica Hashtag Brasil   \n",
       "1            65014  01/12/2023   Fabrica Hashtag Brasil   \n",
       "2            65016  01/12/2023   Fabrica Doidona Brasil   \n",
       "3            65016  01/12/2023   Fabrica Doidona Brasil   \n",
       "4            65017  01/12/2023  Original Fábrica Brasil   \n",
       "...            ...         ...                      ...   \n",
       "4538         69996  26/12/2023        Revenda Argentina   \n",
       "4539         69996  26/12/2023        Revenda Argentina   \n",
       "4540         69996  26/12/2023        Revenda Argentina   \n",
       "4541         69997  26/12/2023   Fabrica Doidona Mexico   \n",
       "4542         69997  26/12/2023   Fabrica Doidona Mexico   \n",
       "\n",
       "                            Produto  Quantidade  ValorUnitário  ValorFinal  \n",
       "0              Óleo Motor - Linha A           5         259.00     1295.00  \n",
       "1           Kit Embreagem - Linha A           1         380.00      380.00  \n",
       "2                 Bateria - Linha A           2         479.00      958.00  \n",
       "3          Filtro de Óleo - Linha A           1          18.90       18.90  \n",
       "4         Farol Principal - Linha A           3         159.90      479.70  \n",
       "...                             ...         ...            ...         ...  \n",
       "4538         Logo Hashtag - Linha A           2          10.00       20.00  \n",
       "4539  Terminal de Direção - Linha B           4         156.40      625.60  \n",
       "4540      Farol Principal - Linha B           1         183.89      183.89  \n",
       "4541                Pneus - Linha A           1         359.91      359.91  \n",
       "4542        Kit Embreagem - Linha C           2         502.55     1005.10  \n",
       "\n",
       "[4543 rows x 7 columns]"
      ]
     },
     "metadata": {},
     "output_type": "display_data"
    }
   ],
   "source": [
    "dfout = pd.read_csv('compras.csv', sep=';')\n",
    "display(dfout)"
   ]
  },
  {
   "cell_type": "code",
   "execution_count": 5,
   "id": "ee90f188",
   "metadata": {},
   "outputs": [
    {
     "name": "stdout",
     "output_type": "stream",
     "text": [
      "      CódigoCompra        Data               Fornecedor  \\\n",
      "0            65014  01/12/2023   Fabrica Hashtag Brasil   \n",
      "1            65014  01/12/2023   Fabrica Hashtag Brasil   \n",
      "2            65016  01/12/2023   Fabrica Doidona Brasil   \n",
      "3            65016  01/12/2023   Fabrica Doidona Brasil   \n",
      "4            65017  01/12/2023  Original Fábrica Brasil   \n",
      "...            ...         ...                      ...   \n",
      "4538         69996  26/12/2023        Revenda Argentina   \n",
      "4539         69996  26/12/2023        Revenda Argentina   \n",
      "4540         69996  26/12/2023        Revenda Argentina   \n",
      "4541         69997  26/12/2023   Fabrica Doidona Mexico   \n",
      "4542         69997  26/12/2023   Fabrica Doidona Mexico   \n",
      "\n",
      "                            Produto  Quantidade  ValorUnitário  ValorFinal  \n",
      "0              Óleo Motor - Linha A           5         259.00     1295.00  \n",
      "1           Kit Embreagem - Linha A           1         380.00      380.00  \n",
      "2                 Bateria - Linha A           2         479.00      958.00  \n",
      "3          Filtro de Óleo - Linha A           1          18.90       18.90  \n",
      "4         Farol Principal - Linha A           3         159.90      479.70  \n",
      "...                             ...         ...            ...         ...  \n",
      "4538         Logo Hashtag - Linha A           2          10.00       20.00  \n",
      "4539  Terminal de Direção - Linha B           4         156.40      625.60  \n",
      "4540      Farol Principal - Linha B           1         183.89      183.89  \n",
      "4541                Pneus - Linha A           1         359.91      359.91  \n",
      "4542        Kit Embreagem - Linha C           2         502.55     1005.10  \n",
      "\n",
      "[4543 rows x 7 columns]\n"
     ]
    }
   ],
   "source": [
    "print(dfout)"
   ]
  },
  {
   "cell_type": "code",
   "execution_count": 6,
   "id": "3f6fda02",
   "metadata": {},
   "outputs": [
    {
     "data": {
      "text/html": [
       "<div>\n",
       "<style scoped>\n",
       "    .dataframe tbody tr th:only-of-type {\n",
       "        vertical-align: middle;\n",
       "    }\n",
       "\n",
       "    .dataframe tbody tr th {\n",
       "        vertical-align: top;\n",
       "    }\n",
       "\n",
       "    .dataframe thead th {\n",
       "        text-align: right;\n",
       "    }\n",
       "</style>\n",
       "<table border=\"1\" class=\"dataframe\">\n",
       "  <thead>\n",
       "    <tr style=\"text-align: right;\">\n",
       "      <th></th>\n",
       "      <th>CódigoCompra</th>\n",
       "      <th>Data</th>\n",
       "      <th>Fornecedor</th>\n",
       "      <th>Produto</th>\n",
       "      <th>Quantidade</th>\n",
       "      <th>ValorUnitário</th>\n",
       "      <th>ValorFinal</th>\n",
       "    </tr>\n",
       "  </thead>\n",
       "  <tbody>\n",
       "    <tr>\n",
       "      <th>0</th>\n",
       "      <td>65014</td>\n",
       "      <td>01/12/2023</td>\n",
       "      <td>Fabrica Hashtag Brasil</td>\n",
       "      <td>Óleo Motor - Linha A</td>\n",
       "      <td>5</td>\n",
       "      <td>259.00</td>\n",
       "      <td>1295.00</td>\n",
       "    </tr>\n",
       "    <tr>\n",
       "      <th>1</th>\n",
       "      <td>65014</td>\n",
       "      <td>01/12/2023</td>\n",
       "      <td>Fabrica Hashtag Brasil</td>\n",
       "      <td>Kit Embreagem - Linha A</td>\n",
       "      <td>1</td>\n",
       "      <td>380.00</td>\n",
       "      <td>380.00</td>\n",
       "    </tr>\n",
       "    <tr>\n",
       "      <th>2</th>\n",
       "      <td>65016</td>\n",
       "      <td>01/12/2023</td>\n",
       "      <td>Fabrica Doidona Brasil</td>\n",
       "      <td>Bateria - Linha A</td>\n",
       "      <td>2</td>\n",
       "      <td>479.00</td>\n",
       "      <td>958.00</td>\n",
       "    </tr>\n",
       "    <tr>\n",
       "      <th>3</th>\n",
       "      <td>65016</td>\n",
       "      <td>01/12/2023</td>\n",
       "      <td>Fabrica Doidona Brasil</td>\n",
       "      <td>Filtro de Óleo - Linha A</td>\n",
       "      <td>1</td>\n",
       "      <td>18.90</td>\n",
       "      <td>18.90</td>\n",
       "    </tr>\n",
       "    <tr>\n",
       "      <th>4</th>\n",
       "      <td>65017</td>\n",
       "      <td>01/12/2023</td>\n",
       "      <td>Original Fábrica Brasil</td>\n",
       "      <td>Farol Principal - Linha A</td>\n",
       "      <td>3</td>\n",
       "      <td>159.90</td>\n",
       "      <td>479.70</td>\n",
       "    </tr>\n",
       "    <tr>\n",
       "      <th>...</th>\n",
       "      <td>...</td>\n",
       "      <td>...</td>\n",
       "      <td>...</td>\n",
       "      <td>...</td>\n",
       "      <td>...</td>\n",
       "      <td>...</td>\n",
       "      <td>...</td>\n",
       "    </tr>\n",
       "    <tr>\n",
       "      <th>4538</th>\n",
       "      <td>69996</td>\n",
       "      <td>26/12/2023</td>\n",
       "      <td>Revenda Argentina</td>\n",
       "      <td>Logo Hashtag - Linha A</td>\n",
       "      <td>2</td>\n",
       "      <td>10.00</td>\n",
       "      <td>20.00</td>\n",
       "    </tr>\n",
       "    <tr>\n",
       "      <th>4539</th>\n",
       "      <td>69996</td>\n",
       "      <td>26/12/2023</td>\n",
       "      <td>Revenda Argentina</td>\n",
       "      <td>Terminal de Direção - Linha B</td>\n",
       "      <td>4</td>\n",
       "      <td>156.40</td>\n",
       "      <td>625.60</td>\n",
       "    </tr>\n",
       "    <tr>\n",
       "      <th>4540</th>\n",
       "      <td>69996</td>\n",
       "      <td>26/12/2023</td>\n",
       "      <td>Revenda Argentina</td>\n",
       "      <td>Farol Principal - Linha B</td>\n",
       "      <td>1</td>\n",
       "      <td>183.89</td>\n",
       "      <td>183.89</td>\n",
       "    </tr>\n",
       "    <tr>\n",
       "      <th>4541</th>\n",
       "      <td>69997</td>\n",
       "      <td>26/12/2023</td>\n",
       "      <td>Fabrica Doidona Mexico</td>\n",
       "      <td>Pneus - Linha A</td>\n",
       "      <td>1</td>\n",
       "      <td>359.91</td>\n",
       "      <td>359.91</td>\n",
       "    </tr>\n",
       "    <tr>\n",
       "      <th>4542</th>\n",
       "      <td>69997</td>\n",
       "      <td>26/12/2023</td>\n",
       "      <td>Fabrica Doidona Mexico</td>\n",
       "      <td>Kit Embreagem - Linha C</td>\n",
       "      <td>2</td>\n",
       "      <td>502.55</td>\n",
       "      <td>1005.10</td>\n",
       "    </tr>\n",
       "  </tbody>\n",
       "</table>\n",
       "<p>4543 rows × 7 columns</p>\n",
       "</div>"
      ],
      "text/plain": [
       "      CódigoCompra        Data               Fornecedor  \\\n",
       "0            65014  01/12/2023   Fabrica Hashtag Brasil   \n",
       "1            65014  01/12/2023   Fabrica Hashtag Brasil   \n",
       "2            65016  01/12/2023   Fabrica Doidona Brasil   \n",
       "3            65016  01/12/2023   Fabrica Doidona Brasil   \n",
       "4            65017  01/12/2023  Original Fábrica Brasil   \n",
       "...            ...         ...                      ...   \n",
       "4538         69996  26/12/2023        Revenda Argentina   \n",
       "4539         69996  26/12/2023        Revenda Argentina   \n",
       "4540         69996  26/12/2023        Revenda Argentina   \n",
       "4541         69997  26/12/2023   Fabrica Doidona Mexico   \n",
       "4542         69997  26/12/2023   Fabrica Doidona Mexico   \n",
       "\n",
       "                            Produto  Quantidade  ValorUnitário  ValorFinal  \n",
       "0              Óleo Motor - Linha A           5         259.00     1295.00  \n",
       "1           Kit Embreagem - Linha A           1         380.00      380.00  \n",
       "2                 Bateria - Linha A           2         479.00      958.00  \n",
       "3          Filtro de Óleo - Linha A           1          18.90       18.90  \n",
       "4         Farol Principal - Linha A           3         159.90      479.70  \n",
       "...                             ...         ...            ...         ...  \n",
       "4538         Logo Hashtag - Linha A           2          10.00       20.00  \n",
       "4539  Terminal de Direção - Linha B           4         156.40      625.60  \n",
       "4540      Farol Principal - Linha B           1         183.89      183.89  \n",
       "4541                Pneus - Linha A           1         359.91      359.91  \n",
       "4542        Kit Embreagem - Linha C           2         502.55     1005.10  \n",
       "\n",
       "[4543 rows x 7 columns]"
      ]
     },
     "execution_count": 6,
     "metadata": {},
     "output_type": "execute_result"
    }
   ],
   "source": [
    "dfout"
   ]
  },
  {
   "cell_type": "code",
   "execution_count": 7,
   "id": "bdaa7081",
   "metadata": {},
   "outputs": [
    {
     "data": {
      "text/html": [
       "<div>\n",
       "<style scoped>\n",
       "    .dataframe tbody tr th:only-of-type {\n",
       "        vertical-align: middle;\n",
       "    }\n",
       "\n",
       "    .dataframe tbody tr th {\n",
       "        vertical-align: top;\n",
       "    }\n",
       "\n",
       "    .dataframe thead th {\n",
       "        text-align: right;\n",
       "    }\n",
       "</style>\n",
       "<table border=\"1\" class=\"dataframe\">\n",
       "  <thead>\n",
       "    <tr style=\"text-align: right;\">\n",
       "      <th></th>\n",
       "      <th>CódigoCompra</th>\n",
       "      <th>Data</th>\n",
       "      <th>Fornecedor</th>\n",
       "      <th>Produto</th>\n",
       "      <th>Quantidade</th>\n",
       "      <th>ValorUnitário</th>\n",
       "      <th>ValorFinal</th>\n",
       "    </tr>\n",
       "  </thead>\n",
       "  <tbody>\n",
       "    <tr>\n",
       "      <th>0</th>\n",
       "      <td>65014</td>\n",
       "      <td>01/12/2023</td>\n",
       "      <td>Fabrica Hashtag Brasil</td>\n",
       "      <td>Óleo Motor - Linha A</td>\n",
       "      <td>5</td>\n",
       "      <td>259.0</td>\n",
       "      <td>1295.0</td>\n",
       "    </tr>\n",
       "    <tr>\n",
       "      <th>1</th>\n",
       "      <td>65014</td>\n",
       "      <td>01/12/2023</td>\n",
       "      <td>Fabrica Hashtag Brasil</td>\n",
       "      <td>Kit Embreagem - Linha A</td>\n",
       "      <td>1</td>\n",
       "      <td>380.0</td>\n",
       "      <td>380.0</td>\n",
       "    </tr>\n",
       "    <tr>\n",
       "      <th>2</th>\n",
       "      <td>65016</td>\n",
       "      <td>01/12/2023</td>\n",
       "      <td>Fabrica Doidona Brasil</td>\n",
       "      <td>Bateria - Linha A</td>\n",
       "      <td>2</td>\n",
       "      <td>479.0</td>\n",
       "      <td>958.0</td>\n",
       "    </tr>\n",
       "    <tr>\n",
       "      <th>3</th>\n",
       "      <td>65016</td>\n",
       "      <td>01/12/2023</td>\n",
       "      <td>Fabrica Doidona Brasil</td>\n",
       "      <td>Filtro de Óleo - Linha A</td>\n",
       "      <td>1</td>\n",
       "      <td>18.9</td>\n",
       "      <td>18.9</td>\n",
       "    </tr>\n",
       "    <tr>\n",
       "      <th>4</th>\n",
       "      <td>65017</td>\n",
       "      <td>01/12/2023</td>\n",
       "      <td>Original Fábrica Brasil</td>\n",
       "      <td>Farol Principal - Linha A</td>\n",
       "      <td>3</td>\n",
       "      <td>159.9</td>\n",
       "      <td>479.7</td>\n",
       "    </tr>\n",
       "  </tbody>\n",
       "</table>\n",
       "</div>"
      ],
      "text/plain": [
       "   CódigoCompra        Data               Fornecedor  \\\n",
       "0         65014  01/12/2023   Fabrica Hashtag Brasil   \n",
       "1         65014  01/12/2023   Fabrica Hashtag Brasil   \n",
       "2         65016  01/12/2023   Fabrica Doidona Brasil   \n",
       "3         65016  01/12/2023   Fabrica Doidona Brasil   \n",
       "4         65017  01/12/2023  Original Fábrica Brasil   \n",
       "\n",
       "                     Produto  Quantidade  ValorUnitário  ValorFinal  \n",
       "0       Óleo Motor - Linha A           5          259.0      1295.0  \n",
       "1    Kit Embreagem - Linha A           1          380.0       380.0  \n",
       "2          Bateria - Linha A           2          479.0       958.0  \n",
       "3   Filtro de Óleo - Linha A           1           18.9        18.9  \n",
       "4  Farol Principal - Linha A           3          159.9       479.7  "
      ]
     },
     "execution_count": 7,
     "metadata": {},
     "output_type": "execute_result"
    }
   ],
   "source": [
    "dfout.head()"
   ]
  },
  {
   "cell_type": "code",
   "execution_count": null,
   "id": "8e09d93a",
   "metadata": {},
   "outputs": [],
   "source": []
  }
 ],
 "metadata": {
  "celltoolbar": "Raw Cell Format",
  "kernelspec": {
   "display_name": "Python 3 (ipykernel)",
   "language": "python",
   "name": "python3"
  },
  "language_info": {
   "codemirror_mode": {
    "name": "ipython",
    "version": 3
   },
   "file_extension": ".py",
   "mimetype": "text/x-python",
   "name": "python",
   "nbconvert_exporter": "python",
   "pygments_lexer": "ipython3",
   "version": "3.10.6"
  }
 },
 "nbformat": 4,
 "nbformat_minor": 5
}
