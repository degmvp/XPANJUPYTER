{
 "cells": [
  {
   "cell_type": "code",
   "execution_count": 1,
   "id": "474fdacf",
   "metadata": {},
   "outputs": [],
   "source": [
    "import pandas as pd\n",
    "import numpy as np"
   ]
  },
  {
   "cell_type": "code",
   "execution_count": 2,
   "id": "df93f465",
   "metadata": {},
   "outputs": [
    {
     "name": "stdout",
     "output_type": "stream",
     "text": [
      "       Nome  Nota Aprovado\n",
      "0   Ricardo   4.0      Nao\n",
      "1     Pedro   7.0      Sim\n",
      "2    Degmar   5.5      Nao\n",
      "3  Lawrence   9.0      Sim\n"
     ]
    }
   ],
   "source": [
    "        alunos = {'Nome':['Ricardo','Pedro','Degmar','Lawrence'],\n",
    "                  'Nota':[4,7,5.5,9],\n",
    "                  'Aprovado':['Nao','Sim','Nao','Sim']}\n",
    "                  \n",
    "        df = pd.DataFrame(alunos)\n",
    "        print(df)"
   ]
  },
  {
   "cell_type": "code",
   "execution_count": 3,
   "id": "6bedb3eb",
   "metadata": {},
   "outputs": [
    {
     "name": "stdout",
     "output_type": "stream",
     "text": [
      "0     2\n",
      "1     6\n",
      "2     9\n",
      "3    10\n",
      "4     5\n",
      "dtype: int64\n"
     ]
    }
   ],
   "source": [
    "        objeto1 = pd.Series([2,6,9,10,5])\n",
    "        print(objeto1)"
   ]
  },
  {
   "cell_type": "code",
   "execution_count": 4,
   "id": "ff40d4cb",
   "metadata": {},
   "outputs": [
    {
     "name": "stdout",
     "output_type": "stream",
     "text": [
      "[ 2  6  9 10  5]\n"
     ]
    }
   ],
   "source": [
    "        array1 = np.array([2,6,9,10,5])\n",
    "        print(array1)"
   ]
  },
  {
   "cell_type": "code",
   "execution_count": 5,
   "id": "c7dd8fe5",
   "metadata": {},
   "outputs": [
    {
     "name": "stdout",
     "output_type": "stream",
     "text": [
      "[[ 2  6  9 10  5]\n",
      " [ 6 12  2  9 10]]\n"
     ]
    }
   ],
   "source": [
    "array2 = np.array([(2,6,9,10,5), (6,12,2,9,10)])\n",
    "print(array2)"
   ]
  },
  {
   "cell_type": "code",
   "execution_count": 6,
   "id": "020307b3",
   "metadata": {},
   "outputs": [
    {
     "name": "stdout",
     "output_type": "stream",
     "text": [
      "0     2\n",
      "1     6\n",
      "2     9\n",
      "3    10\n",
      "4     5\n",
      "dtype: int32\n"
     ]
    }
   ],
   "source": [
    "        objeto2 = pd.Series(array1)\n",
    "        print(objeto2)"
   ]
  },
  {
   "cell_type": "code",
   "execution_count": 7,
   "id": "ff22aaa4",
   "metadata": {},
   "outputs": [
    {
     "name": "stdout",
     "output_type": "stream",
     "text": [
      "      Nome  Nota Aprovado\n",
      "0  Ricardo   4.0      Nao\n",
      "1    Pedro   7.0      Sim\n",
      "2   Degmar   5.5      Nao\n"
     ]
    }
   ],
   "source": [
    "        pri_linhas = df.loc[0:2]\n",
    "        print(pri_linhas)"
   ]
  },
  {
   "cell_type": "code",
   "execution_count": 8,
   "id": "7bd6a8f6",
   "metadata": {},
   "outputs": [
    {
     "name": "stdout",
     "output_type": "stream",
     "text": [
      "       Nome  Nota Aprovado\n",
      "0   Ricardo   4.0      Nao\n",
      "1     Pedro   7.0      Sim\n",
      "2    Degmar   5.5      Nao\n",
      "3  Lawrence   9.0      Sim\n"
     ]
    }
   ],
   "source": [
    "        pri_linhas = df.loc[0:3]\n",
    "        print(pri_linhas)"
   ]
  },
  {
   "cell_type": "code",
   "execution_count": 9,
   "id": "c2ab2504",
   "metadata": {},
   "outputs": [
    {
     "name": "stdout",
     "output_type": "stream",
     "text": [
      "      Nome  Nota Aprovado\n",
      "0  Ricardo   4.0      Nao\n",
      "1    Pedro   7.0      Sim\n",
      "2   Degmar   5.5      Nao\n"
     ]
    }
   ],
   "source": [
    "        novoDF = df.loc[df['Nota']!=9]\n",
    "        print(novoDF)"
   ]
  },
  {
   "cell_type": "code",
   "execution_count": 10,
   "id": "d4e9e90d",
   "metadata": {},
   "outputs": [
    {
     "name": "stdout",
     "output_type": "stream",
     "text": [
      "      Nome  Nota Aprovado\n",
      "0  Ricardo   4.0      Nao\n",
      "2   Degmar   5.5      Nao\n"
     ]
    }
   ],
   "source": [
    "        alunosReprovados = df.loc[df['Aprovado']!='Sim']\n",
    "        print(alunosReprovados)"
   ]
  },
  {
   "cell_type": "code",
   "execution_count": 11,
   "id": "8f71660a",
   "metadata": {},
   "outputs": [
    {
     "name": "stdout",
     "output_type": "stream",
     "text": [
      "       Nome  Nota Aprovado\n",
      "1     Pedro   7.0      Sim\n",
      "3  Lawrence   9.0      Sim\n"
     ]
    }
   ],
   "source": [
    "        alunosAprovados = df.loc[df['Aprovado'] =='Sim']\n",
    "        print(alunosAprovados)"
   ]
  },
  {
   "cell_type": "code",
   "execution_count": null,
   "id": "e2d5b98f",
   "metadata": {},
   "outputs": [],
   "source": []
  }
 ],
 "metadata": {
  "kernelspec": {
   "display_name": "Python 3 (ipykernel)",
   "language": "python",
   "name": "python3"
  },
  "language_info": {
   "codemirror_mode": {
    "name": "ipython",
    "version": 3
   },
   "file_extension": ".py",
   "mimetype": "text/x-python",
   "name": "python",
   "nbconvert_exporter": "python",
   "pygments_lexer": "ipython3",
   "version": "3.10.6"
  }
 },
 "nbformat": 4,
 "nbformat_minor": 5
}
