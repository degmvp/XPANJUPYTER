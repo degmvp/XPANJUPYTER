{
 "cells": [
  {
   "cell_type": "code",
   "execution_count": 3,
   "id": "d0b41d9a",
   "metadata": {},
   "outputs": [],
   "source": [
    "#DataFrame.groupby-Group DataFrame or Series\n",
    "import pandas as pd"
   ]
  },
  {
   "cell_type": "code",
   "execution_count": 4,
   "id": "1be7320e",
   "metadata": {},
   "outputs": [
    {
     "name": "stdout",
     "output_type": "stream",
     "text": [
      "       Nome  Nota Aprovado\n",
      "0   Ricardo   4.0      Nao\n",
      "1     Pedro   7.0      Sim\n",
      "2    Degmar   5.5      Nao\n",
      "3  Lawrence   9.0      Sim\n"
     ]
    }
   ],
   "source": [
    "        alunos = {'Nome':['Ricardo','Pedro','Degmar','Lawrence'],\n",
    "                  'Nota':[4,7,5.5,9],\n",
    "                  'Aprovado':['Nao','Sim','Nao','Sim']}\n",
    "        alunoDF = pd.DataFrame(alunos)\n",
    "\n",
    "        print(alunoDF)"
   ]
  },
  {
   "cell_type": "code",
   "execution_count": 5,
   "id": "e97a7af8",
   "metadata": {},
   "outputs": [
    {
     "name": "stdout",
     "output_type": "stream",
     "text": [
      "          Nota\n",
      "Nome          \n",
      "Degmar     5.5\n",
      "Lawrence   9.0\n",
      "Pedro      7.0\n",
      "Ricardo    4.0\n",
      "--------------------------------------------------\n"
     ]
    }
   ],
   "source": [
    "        print(alunoDF.groupby(['Nome']).mean())\n",
    "        print('-'*50)"
   ]
  },
  {
   "cell_type": "code",
   "execution_count": 6,
   "id": "2d7bc857",
   "metadata": {},
   "outputs": [
    {
     "name": "stdout",
     "output_type": "stream",
     "text": [
      "          Nota\n",
      "Aprovado      \n",
      "Nao       4.75\n",
      "Sim       8.00\n",
      "--------------------------------------------------\n"
     ]
    }
   ],
   "source": [
    "        print(alunoDF.groupby(['Aprovado']).mean())\n",
    "        print('-'*50)"
   ]
  },
  {
   "cell_type": "code",
   "execution_count": 8,
   "id": "dd296609",
   "metadata": {},
   "outputs": [
    {
     "name": "stdout",
     "output_type": "stream",
     "text": [
      "     Car  kmhora     vendas\n",
      "0   fiat     120      fraca\n",
      "1  volks     160      otima\n",
      "2  honda     200  excelente\n",
      "3    kia     230        boa\n",
      "--------------------------------------------------\n"
     ]
    }
   ],
   "source": [
    "        rx = {'Car':['fiat','volks','honda','kia'],\n",
    "                  'kmhora':[120,160,200,230],\n",
    "                  'vendas':['fraca','otima','excelente','boa']}\n",
    "        rxDF = pd.DataFrame(rx)\n",
    "        print(rxDF)\n",
    "        print('-'*50)"
   ]
  },
  {
   "cell_type": "code",
   "execution_count": 9,
   "id": "e4cb69d0",
   "metadata": {},
   "outputs": [
    {
     "name": "stdout",
     "output_type": "stream",
     "text": [
      "       kmhora\n",
      "Car          \n",
      "fiat    120.0\n",
      "honda   200.0\n",
      "kia     230.0\n",
      "volks   160.0\n",
      "--------------------------------------------------\n"
     ]
    }
   ],
   "source": [
    "        print(rxDF.groupby(['Car']).mean())\n",
    "        print('-'*50)"
   ]
  },
  {
   "cell_type": "code",
   "execution_count": 10,
   "id": "ff125098",
   "metadata": {},
   "outputs": [
    {
     "name": "stdout",
     "output_type": "stream",
     "text": [
      "           kmhora\n",
      "vendas           \n",
      "boa         230.0\n",
      "excelente   200.0\n",
      "fraca       120.0\n",
      "otima       160.0\n",
      "--------------------------------------------------\n"
     ]
    }
   ],
   "source": [
    "        print(rxDF.groupby(['vendas']).mean())\n",
    "        print('-'*50)"
   ]
  },
  {
   "cell_type": "code",
   "execution_count": 11,
   "id": "faadd3c2",
   "metadata": {},
   "outputs": [
    {
     "name": "stdout",
     "output_type": "stream",
     "text": [
      "         cmd  Nota Testado\n",
      "0     concat     0     Nao\n",
      "1        loc    10     Sim\n",
      "2       iloc    10     Sim\n",
      "3  DataFrame    10     Sim\n"
     ]
    }
   ],
   "source": [
    "       cmdDF = {'cmd':['concat','loc','iloc','DataFrame'],\n",
    "                  'Nota':[0,10,10,10],\n",
    "                  'Testado':['Nao','Sim','Sim','Sim']}\n",
    "       dDF = pd.DataFrame(cmdDF)\n",
    "       print(dDF)"
   ]
  },
  {
   "cell_type": "code",
   "execution_count": null,
   "id": "1bb6958e",
   "metadata": {},
   "outputs": [],
   "source": []
  }
 ],
 "metadata": {
  "kernelspec": {
   "display_name": "Python 3 (ipykernel)",
   "language": "python",
   "name": "python3"
  },
  "language_info": {
   "codemirror_mode": {
    "name": "ipython",
    "version": 3
   },
   "file_extension": ".py",
   "mimetype": "text/x-python",
   "name": "python",
   "nbconvert_exporter": "python",
   "pygments_lexer": "ipython3",
   "version": "3.10.6"
  }
 },
 "nbformat": 4,
 "nbformat_minor": 5
}
